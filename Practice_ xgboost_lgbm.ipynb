{
 "cells": [
  {
   "cell_type": "markdown",
   "id": "aee03008",
   "metadata": {},
   "source": [
    "## 1.Import necessary library"
   ]
  },
  {
   "cell_type": "code",
   "execution_count": 1,
   "id": "54da0557",
   "metadata": {
    "ExecuteTime": {
     "end_time": "2021-11-26T05:29:11.314101Z",
     "start_time": "2021-11-26T05:29:08.883287Z"
    }
   },
   "outputs": [],
   "source": [
    "import pandas as pd\n",
    "\n",
    "import xgboost as xgb"
   ]
  },
  {
   "cell_type": "markdown",
   "id": "c12959d0",
   "metadata": {},
   "source": [
    "## 2. Import datadets"
   ]
  },
  {
   "cell_type": "code",
   "execution_count": 2,
   "id": "dadd5216",
   "metadata": {
    "ExecuteTime": {
     "end_time": "2021-11-26T05:29:11.406500Z",
     "start_time": "2021-11-26T05:29:11.315088Z"
    }
   },
   "outputs": [],
   "source": [
    "import sklearn.datasets as dt"
   ]
  },
  {
   "cell_type": "code",
   "execution_count": 3,
   "id": "83ee6573",
   "metadata": {
    "ExecuteTime": {
     "end_time": "2021-11-26T05:29:11.437521Z",
     "start_time": "2021-11-26T05:29:11.408490Z"
    }
   },
   "outputs": [
    {
     "data": {
      "text/plain": [
       "{'data': array([[1.799e+01, 1.038e+01, 1.228e+02, ..., 2.654e-01, 4.601e-01,\n",
       "         1.189e-01],\n",
       "        [2.057e+01, 1.777e+01, 1.329e+02, ..., 1.860e-01, 2.750e-01,\n",
       "         8.902e-02],\n",
       "        [1.969e+01, 2.125e+01, 1.300e+02, ..., 2.430e-01, 3.613e-01,\n",
       "         8.758e-02],\n",
       "        ...,\n",
       "        [1.660e+01, 2.808e+01, 1.083e+02, ..., 1.418e-01, 2.218e-01,\n",
       "         7.820e-02],\n",
       "        [2.060e+01, 2.933e+01, 1.401e+02, ..., 2.650e-01, 4.087e-01,\n",
       "         1.240e-01],\n",
       "        [7.760e+00, 2.454e+01, 4.792e+01, ..., 0.000e+00, 2.871e-01,\n",
       "         7.039e-02]]),\n",
       " 'target': array([0, 0, 0, 0, 0, 0, 0, 0, 0, 0, 0, 0, 0, 0, 0, 0, 0, 0, 0, 1, 1, 1,\n",
       "        0, 0, 0, 0, 0, 0, 0, 0, 0, 0, 0, 0, 0, 0, 0, 1, 0, 0, 0, 0, 0, 0,\n",
       "        0, 0, 1, 0, 1, 1, 1, 1, 1, 0, 0, 1, 0, 0, 1, 1, 1, 1, 0, 1, 0, 0,\n",
       "        1, 1, 1, 1, 0, 1, 0, 0, 1, 0, 1, 0, 0, 1, 1, 1, 0, 0, 1, 0, 0, 0,\n",
       "        1, 1, 1, 0, 1, 1, 0, 0, 1, 1, 1, 0, 0, 1, 1, 1, 1, 0, 1, 1, 0, 1,\n",
       "        1, 1, 1, 1, 1, 1, 1, 0, 0, 0, 1, 0, 0, 1, 1, 1, 0, 0, 1, 0, 1, 0,\n",
       "        0, 1, 0, 0, 1, 1, 0, 1, 1, 0, 1, 1, 1, 1, 0, 1, 1, 1, 1, 1, 1, 1,\n",
       "        1, 1, 0, 1, 1, 1, 1, 0, 0, 1, 0, 1, 1, 0, 0, 1, 1, 0, 0, 1, 1, 1,\n",
       "        1, 0, 1, 1, 0, 0, 0, 1, 0, 1, 0, 1, 1, 1, 0, 1, 1, 0, 0, 1, 0, 0,\n",
       "        0, 0, 1, 0, 0, 0, 1, 0, 1, 0, 1, 1, 0, 1, 0, 0, 0, 0, 1, 1, 0, 0,\n",
       "        1, 1, 1, 0, 1, 1, 1, 1, 1, 0, 0, 1, 1, 0, 1, 1, 0, 0, 1, 0, 1, 1,\n",
       "        1, 1, 0, 1, 1, 1, 1, 1, 0, 1, 0, 0, 0, 0, 0, 0, 0, 0, 0, 0, 0, 0,\n",
       "        0, 0, 1, 1, 1, 1, 1, 1, 0, 1, 0, 1, 1, 0, 1, 1, 0, 1, 0, 0, 1, 1,\n",
       "        1, 1, 1, 1, 1, 1, 1, 1, 1, 1, 1, 0, 1, 1, 0, 1, 0, 1, 1, 1, 1, 1,\n",
       "        1, 1, 1, 1, 1, 1, 1, 1, 1, 0, 1, 1, 1, 0, 1, 0, 1, 1, 1, 1, 0, 0,\n",
       "        0, 1, 1, 1, 1, 0, 1, 0, 1, 0, 1, 1, 1, 0, 1, 1, 1, 1, 1, 1, 1, 0,\n",
       "        0, 0, 1, 1, 1, 1, 1, 1, 1, 1, 1, 1, 1, 0, 0, 1, 0, 0, 0, 1, 0, 0,\n",
       "        1, 1, 1, 1, 1, 0, 1, 1, 1, 1, 1, 0, 1, 1, 1, 0, 1, 1, 0, 0, 1, 1,\n",
       "        1, 1, 1, 1, 0, 1, 1, 1, 1, 1, 1, 1, 0, 1, 1, 1, 1, 1, 0, 1, 1, 0,\n",
       "        1, 1, 1, 1, 1, 1, 1, 1, 1, 1, 1, 1, 0, 1, 0, 0, 1, 0, 1, 1, 1, 1,\n",
       "        1, 0, 1, 1, 0, 1, 0, 1, 1, 0, 1, 0, 1, 1, 1, 1, 1, 1, 1, 1, 0, 0,\n",
       "        1, 1, 1, 1, 1, 1, 0, 1, 1, 1, 1, 1, 1, 1, 1, 1, 1, 0, 1, 1, 1, 1,\n",
       "        1, 1, 1, 0, 1, 0, 1, 1, 0, 1, 1, 1, 1, 1, 0, 0, 1, 0, 1, 0, 1, 1,\n",
       "        1, 1, 1, 0, 1, 1, 0, 1, 0, 1, 0, 0, 1, 1, 1, 0, 1, 1, 1, 1, 1, 1,\n",
       "        1, 1, 1, 1, 1, 0, 1, 0, 0, 1, 1, 1, 1, 1, 1, 1, 1, 1, 1, 1, 1, 1,\n",
       "        1, 1, 1, 1, 1, 1, 1, 1, 1, 1, 1, 1, 0, 0, 0, 0, 0, 0, 1]),\n",
       " 'frame': None,\n",
       " 'target_names': array(['malignant', 'benign'], dtype='<U9'),\n",
       " 'DESCR': '.. _breast_cancer_dataset:\\n\\nBreast cancer wisconsin (diagnostic) dataset\\n--------------------------------------------\\n\\n**Data Set Characteristics:**\\n\\n    :Number of Instances: 569\\n\\n    :Number of Attributes: 30 numeric, predictive attributes and the class\\n\\n    :Attribute Information:\\n        - radius (mean of distances from center to points on the perimeter)\\n        - texture (standard deviation of gray-scale values)\\n        - perimeter\\n        - area\\n        - smoothness (local variation in radius lengths)\\n        - compactness (perimeter^2 / area - 1.0)\\n        - concavity (severity of concave portions of the contour)\\n        - concave points (number of concave portions of the contour)\\n        - symmetry\\n        - fractal dimension (\"coastline approximation\" - 1)\\n\\n        The mean, standard error, and \"worst\" or largest (mean of the three\\n        worst/largest values) of these features were computed for each image,\\n        resulting in 30 features.  For instance, field 0 is Mean Radius, field\\n        10 is Radius SE, field 20 is Worst Radius.\\n\\n        - class:\\n                - WDBC-Malignant\\n                - WDBC-Benign\\n\\n    :Summary Statistics:\\n\\n    ===================================== ====== ======\\n                                           Min    Max\\n    ===================================== ====== ======\\n    radius (mean):                        6.981  28.11\\n    texture (mean):                       9.71   39.28\\n    perimeter (mean):                     43.79  188.5\\n    area (mean):                          143.5  2501.0\\n    smoothness (mean):                    0.053  0.163\\n    compactness (mean):                   0.019  0.345\\n    concavity (mean):                     0.0    0.427\\n    concave points (mean):                0.0    0.201\\n    symmetry (mean):                      0.106  0.304\\n    fractal dimension (mean):             0.05   0.097\\n    radius (standard error):              0.112  2.873\\n    texture (standard error):             0.36   4.885\\n    perimeter (standard error):           0.757  21.98\\n    area (standard error):                6.802  542.2\\n    smoothness (standard error):          0.002  0.031\\n    compactness (standard error):         0.002  0.135\\n    concavity (standard error):           0.0    0.396\\n    concave points (standard error):      0.0    0.053\\n    symmetry (standard error):            0.008  0.079\\n    fractal dimension (standard error):   0.001  0.03\\n    radius (worst):                       7.93   36.04\\n    texture (worst):                      12.02  49.54\\n    perimeter (worst):                    50.41  251.2\\n    area (worst):                         185.2  4254.0\\n    smoothness (worst):                   0.071  0.223\\n    compactness (worst):                  0.027  1.058\\n    concavity (worst):                    0.0    1.252\\n    concave points (worst):               0.0    0.291\\n    symmetry (worst):                     0.156  0.664\\n    fractal dimension (worst):            0.055  0.208\\n    ===================================== ====== ======\\n\\n    :Missing Attribute Values: None\\n\\n    :Class Distribution: 212 - Malignant, 357 - Benign\\n\\n    :Creator:  Dr. William H. Wolberg, W. Nick Street, Olvi L. Mangasarian\\n\\n    :Donor: Nick Street\\n\\n    :Date: November, 1995\\n\\nThis is a copy of UCI ML Breast Cancer Wisconsin (Diagnostic) datasets.\\nhttps://goo.gl/U2Uwz2\\n\\nFeatures are computed from a digitized image of a fine needle\\naspirate (FNA) of a breast mass.  They describe\\ncharacteristics of the cell nuclei present in the image.\\n\\nSeparating plane described above was obtained using\\nMultisurface Method-Tree (MSM-T) [K. P. Bennett, \"Decision Tree\\nConstruction Via Linear Programming.\" Proceedings of the 4th\\nMidwest Artificial Intelligence and Cognitive Science Society,\\npp. 97-101, 1992], a classification method which uses linear\\nprogramming to construct a decision tree.  Relevant features\\nwere selected using an exhaustive search in the space of 1-4\\nfeatures and 1-3 separating planes.\\n\\nThe actual linear program used to obtain the separating plane\\nin the 3-dimensional space is that described in:\\n[K. P. Bennett and O. L. Mangasarian: \"Robust Linear\\nProgramming Discrimination of Two Linearly Inseparable Sets\",\\nOptimization Methods and Software 1, 1992, 23-34].\\n\\nThis database is also available through the UW CS ftp server:\\n\\nftp ftp.cs.wisc.edu\\ncd math-prog/cpo-dataset/machine-learn/WDBC/\\n\\n.. topic:: References\\n\\n   - W.N. Street, W.H. Wolberg and O.L. Mangasarian. Nuclear feature extraction \\n     for breast tumor diagnosis. IS&T/SPIE 1993 International Symposium on \\n     Electronic Imaging: Science and Technology, volume 1905, pages 861-870,\\n     San Jose, CA, 1993.\\n   - O.L. Mangasarian, W.N. Street and W.H. Wolberg. Breast cancer diagnosis and \\n     prognosis via linear programming. Operations Research, 43(4), pages 570-577, \\n     July-August 1995.\\n   - W.H. Wolberg, W.N. Street, and O.L. Mangasarian. Machine learning techniques\\n     to diagnose breast cancer from fine-needle aspirates. Cancer Letters 77 (1994) \\n     163-171.',\n",
       " 'feature_names': array(['mean radius', 'mean texture', 'mean perimeter', 'mean area',\n",
       "        'mean smoothness', 'mean compactness', 'mean concavity',\n",
       "        'mean concave points', 'mean symmetry', 'mean fractal dimension',\n",
       "        'radius error', 'texture error', 'perimeter error', 'area error',\n",
       "        'smoothness error', 'compactness error', 'concavity error',\n",
       "        'concave points error', 'symmetry error',\n",
       "        'fractal dimension error', 'worst radius', 'worst texture',\n",
       "        'worst perimeter', 'worst area', 'worst smoothness',\n",
       "        'worst compactness', 'worst concavity', 'worst concave points',\n",
       "        'worst symmetry', 'worst fractal dimension'], dtype='<U23'),\n",
       " 'filename': 'C:\\\\Users\\\\KEERTHI KUMAR\\\\anaconda3\\\\lib\\\\site-packages\\\\sklearn\\\\datasets\\\\data\\\\breast_cancer.csv'}"
      ]
     },
     "execution_count": 3,
     "metadata": {},
     "output_type": "execute_result"
    }
   ],
   "source": [
    "data = dt.load_breast_cancer()\n",
    "data"
   ]
  },
  {
   "cell_type": "code",
   "execution_count": 4,
   "id": "ab354200",
   "metadata": {
    "ExecuteTime": {
     "end_time": "2021-11-26T05:29:11.500680Z",
     "start_time": "2021-11-26T05:29:11.439483Z"
    }
   },
   "outputs": [
    {
     "data": {
      "text/html": [
       "<div>\n",
       "<style scoped>\n",
       "    .dataframe tbody tr th:only-of-type {\n",
       "        vertical-align: middle;\n",
       "    }\n",
       "\n",
       "    .dataframe tbody tr th {\n",
       "        vertical-align: top;\n",
       "    }\n",
       "\n",
       "    .dataframe thead th {\n",
       "        text-align: right;\n",
       "    }\n",
       "</style>\n",
       "<table border=\"1\" class=\"dataframe\">\n",
       "  <thead>\n",
       "    <tr style=\"text-align: right;\">\n",
       "      <th></th>\n",
       "      <th>mean radius</th>\n",
       "      <th>mean texture</th>\n",
       "      <th>mean perimeter</th>\n",
       "      <th>mean area</th>\n",
       "      <th>mean smoothness</th>\n",
       "      <th>mean compactness</th>\n",
       "      <th>mean concavity</th>\n",
       "      <th>mean concave points</th>\n",
       "      <th>mean symmetry</th>\n",
       "      <th>mean fractal dimension</th>\n",
       "      <th>...</th>\n",
       "      <th>worst texture</th>\n",
       "      <th>worst perimeter</th>\n",
       "      <th>worst area</th>\n",
       "      <th>worst smoothness</th>\n",
       "      <th>worst compactness</th>\n",
       "      <th>worst concavity</th>\n",
       "      <th>worst concave points</th>\n",
       "      <th>worst symmetry</th>\n",
       "      <th>worst fractal dimension</th>\n",
       "      <th>target</th>\n",
       "    </tr>\n",
       "  </thead>\n",
       "  <tbody>\n",
       "    <tr>\n",
       "      <th>0</th>\n",
       "      <td>17.99</td>\n",
       "      <td>10.38</td>\n",
       "      <td>122.80</td>\n",
       "      <td>1001.0</td>\n",
       "      <td>0.11840</td>\n",
       "      <td>0.27760</td>\n",
       "      <td>0.30010</td>\n",
       "      <td>0.14710</td>\n",
       "      <td>0.2419</td>\n",
       "      <td>0.07871</td>\n",
       "      <td>...</td>\n",
       "      <td>17.33</td>\n",
       "      <td>184.60</td>\n",
       "      <td>2019.0</td>\n",
       "      <td>0.16220</td>\n",
       "      <td>0.66560</td>\n",
       "      <td>0.7119</td>\n",
       "      <td>0.2654</td>\n",
       "      <td>0.4601</td>\n",
       "      <td>0.11890</td>\n",
       "      <td>0</td>\n",
       "    </tr>\n",
       "    <tr>\n",
       "      <th>1</th>\n",
       "      <td>20.57</td>\n",
       "      <td>17.77</td>\n",
       "      <td>132.90</td>\n",
       "      <td>1326.0</td>\n",
       "      <td>0.08474</td>\n",
       "      <td>0.07864</td>\n",
       "      <td>0.08690</td>\n",
       "      <td>0.07017</td>\n",
       "      <td>0.1812</td>\n",
       "      <td>0.05667</td>\n",
       "      <td>...</td>\n",
       "      <td>23.41</td>\n",
       "      <td>158.80</td>\n",
       "      <td>1956.0</td>\n",
       "      <td>0.12380</td>\n",
       "      <td>0.18660</td>\n",
       "      <td>0.2416</td>\n",
       "      <td>0.1860</td>\n",
       "      <td>0.2750</td>\n",
       "      <td>0.08902</td>\n",
       "      <td>0</td>\n",
       "    </tr>\n",
       "    <tr>\n",
       "      <th>2</th>\n",
       "      <td>19.69</td>\n",
       "      <td>21.25</td>\n",
       "      <td>130.00</td>\n",
       "      <td>1203.0</td>\n",
       "      <td>0.10960</td>\n",
       "      <td>0.15990</td>\n",
       "      <td>0.19740</td>\n",
       "      <td>0.12790</td>\n",
       "      <td>0.2069</td>\n",
       "      <td>0.05999</td>\n",
       "      <td>...</td>\n",
       "      <td>25.53</td>\n",
       "      <td>152.50</td>\n",
       "      <td>1709.0</td>\n",
       "      <td>0.14440</td>\n",
       "      <td>0.42450</td>\n",
       "      <td>0.4504</td>\n",
       "      <td>0.2430</td>\n",
       "      <td>0.3613</td>\n",
       "      <td>0.08758</td>\n",
       "      <td>0</td>\n",
       "    </tr>\n",
       "    <tr>\n",
       "      <th>3</th>\n",
       "      <td>11.42</td>\n",
       "      <td>20.38</td>\n",
       "      <td>77.58</td>\n",
       "      <td>386.1</td>\n",
       "      <td>0.14250</td>\n",
       "      <td>0.28390</td>\n",
       "      <td>0.24140</td>\n",
       "      <td>0.10520</td>\n",
       "      <td>0.2597</td>\n",
       "      <td>0.09744</td>\n",
       "      <td>...</td>\n",
       "      <td>26.50</td>\n",
       "      <td>98.87</td>\n",
       "      <td>567.7</td>\n",
       "      <td>0.20980</td>\n",
       "      <td>0.86630</td>\n",
       "      <td>0.6869</td>\n",
       "      <td>0.2575</td>\n",
       "      <td>0.6638</td>\n",
       "      <td>0.17300</td>\n",
       "      <td>0</td>\n",
       "    </tr>\n",
       "    <tr>\n",
       "      <th>4</th>\n",
       "      <td>20.29</td>\n",
       "      <td>14.34</td>\n",
       "      <td>135.10</td>\n",
       "      <td>1297.0</td>\n",
       "      <td>0.10030</td>\n",
       "      <td>0.13280</td>\n",
       "      <td>0.19800</td>\n",
       "      <td>0.10430</td>\n",
       "      <td>0.1809</td>\n",
       "      <td>0.05883</td>\n",
       "      <td>...</td>\n",
       "      <td>16.67</td>\n",
       "      <td>152.20</td>\n",
       "      <td>1575.0</td>\n",
       "      <td>0.13740</td>\n",
       "      <td>0.20500</td>\n",
       "      <td>0.4000</td>\n",
       "      <td>0.1625</td>\n",
       "      <td>0.2364</td>\n",
       "      <td>0.07678</td>\n",
       "      <td>0</td>\n",
       "    </tr>\n",
       "    <tr>\n",
       "      <th>...</th>\n",
       "      <td>...</td>\n",
       "      <td>...</td>\n",
       "      <td>...</td>\n",
       "      <td>...</td>\n",
       "      <td>...</td>\n",
       "      <td>...</td>\n",
       "      <td>...</td>\n",
       "      <td>...</td>\n",
       "      <td>...</td>\n",
       "      <td>...</td>\n",
       "      <td>...</td>\n",
       "      <td>...</td>\n",
       "      <td>...</td>\n",
       "      <td>...</td>\n",
       "      <td>...</td>\n",
       "      <td>...</td>\n",
       "      <td>...</td>\n",
       "      <td>...</td>\n",
       "      <td>...</td>\n",
       "      <td>...</td>\n",
       "      <td>...</td>\n",
       "    </tr>\n",
       "    <tr>\n",
       "      <th>564</th>\n",
       "      <td>21.56</td>\n",
       "      <td>22.39</td>\n",
       "      <td>142.00</td>\n",
       "      <td>1479.0</td>\n",
       "      <td>0.11100</td>\n",
       "      <td>0.11590</td>\n",
       "      <td>0.24390</td>\n",
       "      <td>0.13890</td>\n",
       "      <td>0.1726</td>\n",
       "      <td>0.05623</td>\n",
       "      <td>...</td>\n",
       "      <td>26.40</td>\n",
       "      <td>166.10</td>\n",
       "      <td>2027.0</td>\n",
       "      <td>0.14100</td>\n",
       "      <td>0.21130</td>\n",
       "      <td>0.4107</td>\n",
       "      <td>0.2216</td>\n",
       "      <td>0.2060</td>\n",
       "      <td>0.07115</td>\n",
       "      <td>0</td>\n",
       "    </tr>\n",
       "    <tr>\n",
       "      <th>565</th>\n",
       "      <td>20.13</td>\n",
       "      <td>28.25</td>\n",
       "      <td>131.20</td>\n",
       "      <td>1261.0</td>\n",
       "      <td>0.09780</td>\n",
       "      <td>0.10340</td>\n",
       "      <td>0.14400</td>\n",
       "      <td>0.09791</td>\n",
       "      <td>0.1752</td>\n",
       "      <td>0.05533</td>\n",
       "      <td>...</td>\n",
       "      <td>38.25</td>\n",
       "      <td>155.00</td>\n",
       "      <td>1731.0</td>\n",
       "      <td>0.11660</td>\n",
       "      <td>0.19220</td>\n",
       "      <td>0.3215</td>\n",
       "      <td>0.1628</td>\n",
       "      <td>0.2572</td>\n",
       "      <td>0.06637</td>\n",
       "      <td>0</td>\n",
       "    </tr>\n",
       "    <tr>\n",
       "      <th>566</th>\n",
       "      <td>16.60</td>\n",
       "      <td>28.08</td>\n",
       "      <td>108.30</td>\n",
       "      <td>858.1</td>\n",
       "      <td>0.08455</td>\n",
       "      <td>0.10230</td>\n",
       "      <td>0.09251</td>\n",
       "      <td>0.05302</td>\n",
       "      <td>0.1590</td>\n",
       "      <td>0.05648</td>\n",
       "      <td>...</td>\n",
       "      <td>34.12</td>\n",
       "      <td>126.70</td>\n",
       "      <td>1124.0</td>\n",
       "      <td>0.11390</td>\n",
       "      <td>0.30940</td>\n",
       "      <td>0.3403</td>\n",
       "      <td>0.1418</td>\n",
       "      <td>0.2218</td>\n",
       "      <td>0.07820</td>\n",
       "      <td>0</td>\n",
       "    </tr>\n",
       "    <tr>\n",
       "      <th>567</th>\n",
       "      <td>20.60</td>\n",
       "      <td>29.33</td>\n",
       "      <td>140.10</td>\n",
       "      <td>1265.0</td>\n",
       "      <td>0.11780</td>\n",
       "      <td>0.27700</td>\n",
       "      <td>0.35140</td>\n",
       "      <td>0.15200</td>\n",
       "      <td>0.2397</td>\n",
       "      <td>0.07016</td>\n",
       "      <td>...</td>\n",
       "      <td>39.42</td>\n",
       "      <td>184.60</td>\n",
       "      <td>1821.0</td>\n",
       "      <td>0.16500</td>\n",
       "      <td>0.86810</td>\n",
       "      <td>0.9387</td>\n",
       "      <td>0.2650</td>\n",
       "      <td>0.4087</td>\n",
       "      <td>0.12400</td>\n",
       "      <td>0</td>\n",
       "    </tr>\n",
       "    <tr>\n",
       "      <th>568</th>\n",
       "      <td>7.76</td>\n",
       "      <td>24.54</td>\n",
       "      <td>47.92</td>\n",
       "      <td>181.0</td>\n",
       "      <td>0.05263</td>\n",
       "      <td>0.04362</td>\n",
       "      <td>0.00000</td>\n",
       "      <td>0.00000</td>\n",
       "      <td>0.1587</td>\n",
       "      <td>0.05884</td>\n",
       "      <td>...</td>\n",
       "      <td>30.37</td>\n",
       "      <td>59.16</td>\n",
       "      <td>268.6</td>\n",
       "      <td>0.08996</td>\n",
       "      <td>0.06444</td>\n",
       "      <td>0.0000</td>\n",
       "      <td>0.0000</td>\n",
       "      <td>0.2871</td>\n",
       "      <td>0.07039</td>\n",
       "      <td>1</td>\n",
       "    </tr>\n",
       "  </tbody>\n",
       "</table>\n",
       "<p>569 rows × 31 columns</p>\n",
       "</div>"
      ],
      "text/plain": [
       "     mean radius  mean texture  mean perimeter  mean area  mean smoothness  \\\n",
       "0          17.99         10.38          122.80     1001.0          0.11840   \n",
       "1          20.57         17.77          132.90     1326.0          0.08474   \n",
       "2          19.69         21.25          130.00     1203.0          0.10960   \n",
       "3          11.42         20.38           77.58      386.1          0.14250   \n",
       "4          20.29         14.34          135.10     1297.0          0.10030   \n",
       "..           ...           ...             ...        ...              ...   \n",
       "564        21.56         22.39          142.00     1479.0          0.11100   \n",
       "565        20.13         28.25          131.20     1261.0          0.09780   \n",
       "566        16.60         28.08          108.30      858.1          0.08455   \n",
       "567        20.60         29.33          140.10     1265.0          0.11780   \n",
       "568         7.76         24.54           47.92      181.0          0.05263   \n",
       "\n",
       "     mean compactness  mean concavity  mean concave points  mean symmetry  \\\n",
       "0             0.27760         0.30010              0.14710         0.2419   \n",
       "1             0.07864         0.08690              0.07017         0.1812   \n",
       "2             0.15990         0.19740              0.12790         0.2069   \n",
       "3             0.28390         0.24140              0.10520         0.2597   \n",
       "4             0.13280         0.19800              0.10430         0.1809   \n",
       "..                ...             ...                  ...            ...   \n",
       "564           0.11590         0.24390              0.13890         0.1726   \n",
       "565           0.10340         0.14400              0.09791         0.1752   \n",
       "566           0.10230         0.09251              0.05302         0.1590   \n",
       "567           0.27700         0.35140              0.15200         0.2397   \n",
       "568           0.04362         0.00000              0.00000         0.1587   \n",
       "\n",
       "     mean fractal dimension  ...  worst texture  worst perimeter  worst area  \\\n",
       "0                   0.07871  ...          17.33           184.60      2019.0   \n",
       "1                   0.05667  ...          23.41           158.80      1956.0   \n",
       "2                   0.05999  ...          25.53           152.50      1709.0   \n",
       "3                   0.09744  ...          26.50            98.87       567.7   \n",
       "4                   0.05883  ...          16.67           152.20      1575.0   \n",
       "..                      ...  ...            ...              ...         ...   \n",
       "564                 0.05623  ...          26.40           166.10      2027.0   \n",
       "565                 0.05533  ...          38.25           155.00      1731.0   \n",
       "566                 0.05648  ...          34.12           126.70      1124.0   \n",
       "567                 0.07016  ...          39.42           184.60      1821.0   \n",
       "568                 0.05884  ...          30.37            59.16       268.6   \n",
       "\n",
       "     worst smoothness  worst compactness  worst concavity  \\\n",
       "0             0.16220            0.66560           0.7119   \n",
       "1             0.12380            0.18660           0.2416   \n",
       "2             0.14440            0.42450           0.4504   \n",
       "3             0.20980            0.86630           0.6869   \n",
       "4             0.13740            0.20500           0.4000   \n",
       "..                ...                ...              ...   \n",
       "564           0.14100            0.21130           0.4107   \n",
       "565           0.11660            0.19220           0.3215   \n",
       "566           0.11390            0.30940           0.3403   \n",
       "567           0.16500            0.86810           0.9387   \n",
       "568           0.08996            0.06444           0.0000   \n",
       "\n",
       "     worst concave points  worst symmetry  worst fractal dimension  target  \n",
       "0                  0.2654          0.4601                  0.11890       0  \n",
       "1                  0.1860          0.2750                  0.08902       0  \n",
       "2                  0.2430          0.3613                  0.08758       0  \n",
       "3                  0.2575          0.6638                  0.17300       0  \n",
       "4                  0.1625          0.2364                  0.07678       0  \n",
       "..                    ...             ...                      ...     ...  \n",
       "564                0.2216          0.2060                  0.07115       0  \n",
       "565                0.1628          0.2572                  0.06637       0  \n",
       "566                0.1418          0.2218                  0.07820       0  \n",
       "567                0.2650          0.4087                  0.12400       0  \n",
       "568                0.0000          0.2871                  0.07039       1  \n",
       "\n",
       "[569 rows x 31 columns]"
      ]
     },
     "execution_count": 4,
     "metadata": {},
     "output_type": "execute_result"
    }
   ],
   "source": [
    "cancer_data = pd.DataFrame(data= data.data,columns=data.feature_names)\n",
    "cancer_data['target'] = data.target\n",
    "cancer_data"
   ]
  },
  {
   "cell_type": "code",
   "execution_count": 5,
   "id": "243b7334",
   "metadata": {
    "ExecuteTime": {
     "end_time": "2021-11-26T05:29:12.129835Z",
     "start_time": "2021-11-26T05:29:11.502384Z"
    }
   },
   "outputs": [],
   "source": [
    "import numpy as np\n",
    "import matplotlib.pyplot as plt\n",
    "from datetime import datetime\n",
    "from sklearn.metrics import roc_auc_score,confusion_matrix,accuracy_score\n",
    "import seaborn as sns"
   ]
  },
  {
   "cell_type": "code",
   "execution_count": 6,
   "id": "ac5d031f",
   "metadata": {
    "ExecuteTime": {
     "end_time": "2021-11-26T05:29:12.145162Z",
     "start_time": "2021-11-26T05:29:12.130807Z"
    }
   },
   "outputs": [],
   "source": [
    "X = cancer_data.drop('target',axis = 1)\n",
    "y = cancer_data[['target']]"
   ]
  },
  {
   "cell_type": "code",
   "execution_count": 7,
   "id": "e74e28a0",
   "metadata": {
    "ExecuteTime": {
     "end_time": "2021-11-26T05:29:12.160015Z",
     "start_time": "2021-11-26T05:29:12.146113Z"
    }
   },
   "outputs": [
    {
     "data": {
      "text/plain": [
       "((569, 30), (569, 1))"
      ]
     },
     "execution_count": 7,
     "metadata": {},
     "output_type": "execute_result"
    }
   ],
   "source": [
    "X.shape,y.shape"
   ]
  },
  {
   "cell_type": "code",
   "execution_count": 8,
   "id": "06dcccfb",
   "metadata": {
    "ExecuteTime": {
     "end_time": "2021-11-26T05:29:12.191304Z",
     "start_time": "2021-11-26T05:29:12.163972Z"
    },
    "scrolled": true
   },
   "outputs": [
    {
     "data": {
      "text/plain": [
       "array([[ 1.09706398, -2.07333501,  1.26993369, ...,  2.29607613,\n",
       "         2.75062224,  1.93701461],\n",
       "       [ 1.82982061, -0.35363241,  1.68595471, ...,  1.0870843 ,\n",
       "        -0.24388967,  0.28118999],\n",
       "       [ 1.57988811,  0.45618695,  1.56650313, ...,  1.95500035,\n",
       "         1.152255  ,  0.20139121],\n",
       "       ...,\n",
       "       [ 0.70228425,  2.0455738 ,  0.67267578, ...,  0.41406869,\n",
       "        -1.10454895, -0.31840916],\n",
       "       [ 1.83834103,  2.33645719,  1.98252415, ...,  2.28998549,\n",
       "         1.91908301,  2.21963528],\n",
       "       [-1.80840125,  1.22179204, -1.81438851, ..., -1.74506282,\n",
       "        -0.04813821, -0.75120669]])"
      ]
     },
     "execution_count": 8,
     "metadata": {},
     "output_type": "execute_result"
    }
   ],
   "source": [
    "from sklearn.preprocessing import StandardScaler\n",
    "std = StandardScaler()\n",
    "std.fit_transform(X)"
   ]
  },
  {
   "cell_type": "code",
   "execution_count": 9,
   "id": "8ba5002a",
   "metadata": {
    "ExecuteTime": {
     "end_time": "2021-11-26T05:29:12.207069Z",
     "start_time": "2021-11-26T05:29:12.193633Z"
    }
   },
   "outputs": [],
   "source": [
    "from sklearn.model_selection import train_test_split\n",
    "X_train,X_test,y_train,y_test = train_test_split(X,y,test_size=0.2,random_state=12,stratify=y)"
   ]
  },
  {
   "cell_type": "code",
   "execution_count": null,
   "id": "1b38a277",
   "metadata": {},
   "outputs": [],
   "source": [
    "xgb."
   ]
  },
  {
   "cell_type": "code",
   "execution_count": 10,
   "id": "10c67a3a",
   "metadata": {
    "ExecuteTime": {
     "end_time": "2021-11-26T05:29:12.252917Z",
     "start_time": "2021-11-26T05:29:12.208046Z"
    }
   },
   "outputs": [],
   "source": [
    "train_x_y = xgb.DMatrix(data= X_train,label=y_train)"
   ]
  },
  {
   "cell_type": "code",
   "execution_count": 11,
   "id": "3075d0f5",
   "metadata": {
    "ExecuteTime": {
     "end_time": "2021-11-26T05:29:12.268848Z",
     "start_time": "2021-11-26T05:29:12.253887Z"
    }
   },
   "outputs": [],
   "source": [
    "parameters = {'max_depth':10,\n",
    "             'objective':'binary:logistic',\n",
    "             'eval_matrix':'auc',\n",
    "             'learning_rate':.05}"
   ]
  },
  {
   "cell_type": "code",
   "execution_count": 12,
   "id": "c316a21e",
   "metadata": {
    "ExecuteTime": {
     "end_time": "2021-11-26T05:29:12.314725Z",
     "start_time": "2021-11-26T05:29:12.269845Z"
    }
   },
   "outputs": [
    {
     "name": "stdout",
     "output_type": "stream",
     "text": [
      "[10:59:12] WARNING: C:/Users/Administrator/workspace/xgboost-win64_release_1.5.0/src/learner.cc:576: \n",
      "Parameters: { \"eval_matrix\" } might not be used.\n",
      "\n",
      "  This could be a false alarm, with some parameters getting used by language bindings but\n",
      "  then being mistakenly passed down to XGBoost core, or some parameter actually being used\n",
      "  but getting flagged wrongly here. Please open an issue if you find any such cases.\n",
      "\n",
      "\n",
      "[10:59:12] WARNING: C:/Users/Administrator/workspace/xgboost-win64_release_1.5.0/src/learner.cc:1115: Starting in XGBoost 1.3.0, the default evaluation metric used with the objective 'binary:logistic' was changed from 'error' to 'logloss'. Explicitly set eval_metric if you'd like to restore the old behavior.\n"
     ]
    }
   ],
   "source": [
    "start_time = datetime.now()\n",
    "xgb_classifier= xgb.train(params= parameters,dtrain = train_x_y)\n",
    "end_time = datetime.now()"
   ]
  },
  {
   "cell_type": "code",
   "execution_count": 13,
   "id": "25d7e571",
   "metadata": {
    "ExecuteTime": {
     "end_time": "2021-11-26T05:29:12.330689Z",
     "start_time": "2021-11-26T05:29:12.315723Z"
    }
   },
   "outputs": [
    {
     "name": "stdout",
     "output_type": "stream",
     "text": [
      "0:00:00.026926\n"
     ]
    }
   ],
   "source": [
    "print(end_time - start_time)"
   ]
  },
  {
   "cell_type": "code",
   "execution_count": 14,
   "id": "4f007d1f",
   "metadata": {
    "ExecuteTime": {
     "end_time": "2021-11-26T05:29:12.366586Z",
     "start_time": "2021-11-26T05:29:12.333675Z"
    }
   },
   "outputs": [
    {
     "data": {
      "text/plain": [
       "array([0.6959284 , 0.6959284 , 0.6498095 , 0.6959284 , 0.30499747,\n",
       "       0.3668867 , 0.6959284 , 0.6959284 , 0.6959284 , 0.30499747,\n",
       "       0.3335802 , 0.6729433 , 0.6959284 , 0.3294404 , 0.6959284 ,\n",
       "       0.31753397, 0.30499747, 0.30499747, 0.6959284 , 0.6959284 ,\n",
       "       0.6959284 , 0.6959284 , 0.6959284 , 0.43408117, 0.5543894 ,\n",
       "       0.30499747, 0.67571527, 0.5543894 , 0.6959284 , 0.6959284 ,\n",
       "       0.6959284 , 0.6959284 , 0.6959284 , 0.68573654, 0.6959284 ,\n",
       "       0.6343413 , 0.6959284 , 0.6959284 , 0.6959284 , 0.6959284 ,\n",
       "       0.6959284 , 0.6959284 , 0.6959284 , 0.31031805, 0.5925498 ,\n",
       "       0.6959284 , 0.5738909 , 0.30499747, 0.6959284 , 0.30499747,\n",
       "       0.6959284 , 0.5717525 , 0.30499747, 0.6959284 , 0.30499747,\n",
       "       0.3294404 , 0.30499747, 0.6959284 , 0.30499747, 0.30499747,\n",
       "       0.384795  , 0.6959284 , 0.30499747, 0.6959284 , 0.30499747,\n",
       "       0.6959284 , 0.6959284 , 0.6959284 , 0.30499747, 0.30499747,\n",
       "       0.6959284 , 0.6959284 , 0.58055526, 0.67571527, 0.67571527,\n",
       "       0.6959284 , 0.6959284 , 0.6729433 , 0.6959284 , 0.67392534,\n",
       "       0.67392534, 0.6959284 , 0.30499747, 0.6959284 , 0.30499747,\n",
       "       0.6959284 , 0.6959284 , 0.6959284 , 0.5543894 , 0.30499747,\n",
       "       0.6959284 , 0.6959284 , 0.30499747, 0.30499747, 0.6959284 ,\n",
       "       0.6959284 , 0.6959284 , 0.6959284 , 0.6959284 , 0.3294404 ,\n",
       "       0.6959284 , 0.30499747, 0.46973646, 0.58055526, 0.6959284 ,\n",
       "       0.30499747, 0.30499747, 0.6959284 , 0.6959284 , 0.6959284 ,\n",
       "       0.30499747, 0.30499747, 0.6959284 , 0.6959284 , 0.67392534,\n",
       "       0.61930984, 0.30499747, 0.30499747, 0.6959284 , 0.36440617,\n",
       "       0.6132515 , 0.6959284 , 0.6959284 , 0.30499747, 0.30499747,\n",
       "       0.30499747, 0.6959284 , 0.56101346, 0.30499747, 0.6959284 ,\n",
       "       0.6959284 , 0.6959284 , 0.6959284 , 0.32134977, 0.30499747,\n",
       "       0.6959284 , 0.6959284 , 0.6959284 , 0.6959284 , 0.6959284 ,\n",
       "       0.6959284 , 0.6959284 , 0.6959284 , 0.6959284 , 0.6959284 ,\n",
       "       0.30499747, 0.3688333 , 0.30499747, 0.6959284 , 0.30499747,\n",
       "       0.6959284 , 0.6959284 , 0.6959284 , 0.49813858, 0.6959284 ,\n",
       "       0.30499747, 0.6959284 , 0.30499747, 0.6959284 , 0.6959284 ,\n",
       "       0.49813858, 0.30499747, 0.60331684, 0.6959284 , 0.68573654,\n",
       "       0.6959284 , 0.6959284 , 0.6959284 , 0.30499747, 0.6959284 ,\n",
       "       0.6959284 , 0.30499747, 0.6959284 , 0.31031805, 0.34930563,\n",
       "       0.45795354, 0.6959284 , 0.6959284 , 0.6959284 , 0.6959284 ,\n",
       "       0.6959284 , 0.6959284 , 0.6959284 , 0.6959284 , 0.6959284 ,\n",
       "       0.6959284 , 0.6959284 , 0.6959284 , 0.6959284 , 0.3294404 ,\n",
       "       0.6959284 , 0.30499747, 0.6959284 , 0.6959284 , 0.6959284 ,\n",
       "       0.6959284 , 0.30499747, 0.6959284 , 0.38790777, 0.6959284 ,\n",
       "       0.6959284 , 0.6959284 , 0.6959284 , 0.6959284 , 0.30499747,\n",
       "       0.30499747, 0.30499747, 0.6959284 , 0.6959284 , 0.6959284 ,\n",
       "       0.34593856, 0.31753397, 0.30499747, 0.30499747, 0.6959284 ,\n",
       "       0.6959284 , 0.30499747, 0.6959284 , 0.30499747, 0.6959284 ,\n",
       "       0.6729433 , 0.6959284 , 0.6959284 , 0.32134977, 0.6959284 ,\n",
       "       0.68573654, 0.30499747, 0.6959284 , 0.30499747, 0.32134977,\n",
       "       0.6959284 , 0.6959284 , 0.6959284 , 0.30499747, 0.6959284 ,\n",
       "       0.30499747, 0.6959284 , 0.6959284 , 0.32134977, 0.6959284 ,\n",
       "       0.3688333 , 0.4029451 , 0.30499747, 0.30499747, 0.6959284 ,\n",
       "       0.6959284 , 0.6959284 , 0.6959284 , 0.6959284 , 0.6959284 ,\n",
       "       0.30499747, 0.6959284 , 0.67571527, 0.6959284 , 0.35164192,\n",
       "       0.30499747, 0.6959284 , 0.6959284 , 0.32134977, 0.30499747,\n",
       "       0.6959284 , 0.6959284 , 0.6959284 , 0.30499747, 0.6959284 ,\n",
       "       0.32051432, 0.30499747, 0.30499747, 0.6959284 , 0.6959284 ,\n",
       "       0.30499747, 0.6959284 , 0.6959284 , 0.6959284 , 0.6959284 ,\n",
       "       0.6959284 , 0.30499747, 0.30499747, 0.30499747, 0.31689617,\n",
       "       0.68573654, 0.30499747, 0.30499747, 0.30499747, 0.30499747,\n",
       "       0.68573654, 0.30499747, 0.6959284 , 0.6959284 , 0.30499747,\n",
       "       0.6729433 , 0.6959284 , 0.6959284 , 0.30499747, 0.30499747,\n",
       "       0.6959284 , 0.6959284 , 0.30499747, 0.6959284 , 0.31031805,\n",
       "       0.67571527, 0.6959284 , 0.6959284 , 0.6959284 , 0.3294404 ,\n",
       "       0.31031805, 0.6959284 , 0.6959284 , 0.3294404 , 0.6959284 ,\n",
       "       0.6959284 , 0.34593856, 0.30499747, 0.68573654, 0.6959284 ,\n",
       "       0.6959284 , 0.6959284 , 0.30499747, 0.6959284 , 0.6959284 ,\n",
       "       0.6959284 , 0.6959284 , 0.3294404 , 0.6959284 , 0.6959284 ,\n",
       "       0.6959284 , 0.30499747, 0.40251288, 0.30499747, 0.6959284 ,\n",
       "       0.6959284 , 0.6959284 , 0.665172  , 0.30499747, 0.6959284 ,\n",
       "       0.6959284 , 0.30499747, 0.6959284 , 0.6959284 , 0.6959284 ,\n",
       "       0.46816215, 0.6959284 , 0.6959284 , 0.5717525 , 0.30499747,\n",
       "       0.30499747, 0.30499747, 0.30499747, 0.38519648, 0.6959284 ,\n",
       "       0.30499747, 0.6959284 , 0.6959284 , 0.6959284 , 0.6959284 ,\n",
       "       0.30499747, 0.6959284 , 0.6959284 , 0.6959284 , 0.6959284 ,\n",
       "       0.6959284 , 0.30499747, 0.30499747, 0.6959284 , 0.6959284 ,\n",
       "       0.32051432, 0.6959284 , 0.67392534, 0.6959284 , 0.6959284 ,\n",
       "       0.6959284 , 0.6959284 , 0.30499747, 0.6959284 , 0.30499747,\n",
       "       0.6498095 , 0.30499747, 0.48097345, 0.30499747, 0.30499747,\n",
       "       0.6959284 , 0.6959284 , 0.6959284 , 0.3982082 , 0.30499747,\n",
       "       0.4853012 , 0.6959284 , 0.30499747, 0.6959284 , 0.30499747,\n",
       "       0.3688333 , 0.6959284 , 0.6959284 , 0.6959284 , 0.6959284 ,\n",
       "       0.30499747, 0.5477172 , 0.6959284 , 0.32134977, 0.6959284 ,\n",
       "       0.30499747, 0.6959284 , 0.30499747, 0.35164192, 0.6959284 ,\n",
       "       0.6959284 , 0.31753397, 0.67571527, 0.30499747, 0.6959284 ,\n",
       "       0.6959284 , 0.6959284 , 0.6959284 , 0.6959284 , 0.30499747,\n",
       "       0.6959284 , 0.6959284 , 0.3294404 , 0.61231726, 0.30499747,\n",
       "       0.30499747, 0.6959284 , 0.6959284 , 0.6959284 , 0.30499747,\n",
       "       0.6959284 , 0.6959284 , 0.4160137 , 0.6959284 , 0.30499747,\n",
       "       0.30499747, 0.30499747, 0.32134977, 0.6959284 , 0.6498095 ,\n",
       "       0.30499747, 0.6959284 , 0.30499747, 0.30499747, 0.6132515 ,\n",
       "       0.30499747, 0.6959284 , 0.30499747, 0.6959284 , 0.31753397,\n",
       "       0.6959284 , 0.30499747, 0.43904513, 0.6959284 , 0.30499747,\n",
       "       0.30499747, 0.6959284 , 0.30499747, 0.6959284 , 0.30499747],\n",
       "      dtype=float32)"
      ]
     },
     "execution_count": 14,
     "metadata": {},
     "output_type": "execute_result"
    }
   ],
   "source": [
    "dtest = xgb.DMatrix(data= X_train,label=y_train)\n",
    "y_pred_xgb = xgb_classifier.predict(dtest)\n",
    "y_pred_xgb"
   ]
  },
  {
   "cell_type": "code",
   "execution_count": 15,
   "id": "2b742e3e",
   "metadata": {
    "ExecuteTime": {
     "end_time": "2021-11-26T05:29:12.393038Z",
     "start_time": "2021-11-26T05:29:12.368582Z"
    }
   },
   "outputs": [
    {
     "ename": "SyntaxError",
     "evalue": "invalid syntax (<ipython-input-15-2cd303493469>, line 1)",
     "output_type": "error",
     "traceback": [
      "\u001b[1;36m  File \u001b[1;32m\"<ipython-input-15-2cd303493469>\"\u001b[1;36m, line \u001b[1;32m1\u001b[0m\n\u001b[1;33m    if i range(0,X_test.shape[0]):\u001b[0m\n\u001b[1;37m         ^\u001b[0m\n\u001b[1;31mSyntaxError\u001b[0m\u001b[1;31m:\u001b[0m invalid syntax\n"
     ]
    }
   ],
   "source": [
    "if i range(0,X_test.shape[0]):\n",
    "    if y_pred_xgb[i]>=5:\n",
    "        print(y_pred_xgb,1)"
   ]
  }
 ],
 "metadata": {
  "kernelspec": {
   "display_name": "Python 3",
   "language": "python",
   "name": "python3"
  },
  "language_info": {
   "codemirror_mode": {
    "name": "ipython",
    "version": 3
   },
   "file_extension": ".py",
   "mimetype": "text/x-python",
   "name": "python",
   "nbconvert_exporter": "python",
   "pygments_lexer": "ipython3",
   "version": "3.8.8"
  },
  "varInspector": {
   "cols": {
    "lenName": 16,
    "lenType": 16,
    "lenVar": 40
   },
   "kernels_config": {
    "python": {
     "delete_cmd_postfix": "",
     "delete_cmd_prefix": "del ",
     "library": "var_list.py",
     "varRefreshCmd": "print(var_dic_list())"
    },
    "r": {
     "delete_cmd_postfix": ") ",
     "delete_cmd_prefix": "rm(",
     "library": "var_list.r",
     "varRefreshCmd": "cat(var_dic_list()) "
    }
   },
   "types_to_exclude": [
    "module",
    "function",
    "builtin_function_or_method",
    "instance",
    "_Feature"
   ],
   "window_display": false
  }
 },
 "nbformat": 4,
 "nbformat_minor": 5
}
