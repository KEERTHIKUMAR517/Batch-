{
 "cells": [
  {
   "cell_type": "markdown",
   "id": "460ad4c8",
   "metadata": {},
   "source": [
    "# Import Necessary library\n"
   ]
  },
  {
   "cell_type": "code",
   "execution_count": 13,
   "id": "e715cfa1",
   "metadata": {
    "ExecuteTime": {
     "end_time": "2021-12-10T14:02:10.143324Z",
     "start_time": "2021-12-10T14:02:09.910622Z"
    }
   },
   "outputs": [],
   "source": [
    "# !pip install tensorflow\n",
    "import tensorflow as tf\n",
    "import pandas as pd\n",
    "\n",
    "import matplotlib.pyplot as plt"
   ]
  },
  {
   "cell_type": "code",
   "execution_count": 2,
   "id": "232ffb26",
   "metadata": {
    "ExecuteTime": {
     "end_time": "2021-12-10T13:54:52.894765Z",
     "start_time": "2021-12-10T13:54:52.885755Z"
    }
   },
   "outputs": [],
   "source": [
    "import tensorflow as tf"
   ]
  },
  {
   "cell_type": "markdown",
   "id": "519650be",
   "metadata": {},
   "source": [
    "# Data Collection"
   ]
  },
  {
   "cell_type": "code",
   "execution_count": 6,
   "id": "e73837b2",
   "metadata": {
    "ExecuteTime": {
     "end_time": "2021-12-10T13:59:05.558895Z",
     "start_time": "2021-12-10T13:59:05.253446Z"
    }
   },
   "outputs": [],
   "source": [
    "(X_train, y_train), (X_test, y_test) = tf.keras.datasets.mnist.load_data(path=\"mnist.npz\")"
   ]
  },
  {
   "cell_type": "markdown",
   "id": "45ebe36f",
   "metadata": {},
   "source": [
    "# Data Understanding"
   ]
  },
  {
   "cell_type": "code",
   "execution_count": 7,
   "id": "49a24a3b",
   "metadata": {
    "ExecuteTime": {
     "end_time": "2021-12-10T13:59:06.668050Z",
     "start_time": "2021-12-10T13:59:06.661040Z"
    }
   },
   "outputs": [
    {
     "data": {
      "text/plain": [
       "((60000, 28, 28), (60000,))"
      ]
     },
     "execution_count": 7,
     "metadata": {},
     "output_type": "execute_result"
    }
   ],
   "source": [
    "X_train.shape,y_train.shape"
   ]
  },
  {
   "cell_type": "code",
   "execution_count": 21,
   "id": "6ade43df",
   "metadata": {
    "ExecuteTime": {
     "end_time": "2021-12-10T14:04:38.431107Z",
     "start_time": "2021-12-10T14:04:38.421339Z"
    }
   },
   "outputs": [
    {
     "data": {
      "text/plain": [
       "array([5, 0, 4, ..., 5, 6, 8], dtype=uint8)"
      ]
     },
     "execution_count": 21,
     "metadata": {},
     "output_type": "execute_result"
    }
   ],
   "source": [
    "y_train\n"
   ]
  },
  {
   "cell_type": "code",
   "execution_count": 11,
   "id": "7217f14a",
   "metadata": {
    "ExecuteTime": {
     "end_time": "2021-12-10T14:00:20.028594Z",
     "start_time": "2021-12-10T14:00:20.022577Z"
    }
   },
   "outputs": [
    {
     "data": {
      "text/plain": [
       "array([[[0, 0, 0, ..., 0, 0, 0],\n",
       "        [0, 0, 0, ..., 0, 0, 0],\n",
       "        [0, 0, 0, ..., 0, 0, 0],\n",
       "        ...,\n",
       "        [0, 0, 0, ..., 0, 0, 0],\n",
       "        [0, 0, 0, ..., 0, 0, 0],\n",
       "        [0, 0, 0, ..., 0, 0, 0]],\n",
       "\n",
       "       [[0, 0, 0, ..., 0, 0, 0],\n",
       "        [0, 0, 0, ..., 0, 0, 0],\n",
       "        [0, 0, 0, ..., 0, 0, 0],\n",
       "        ...,\n",
       "        [0, 0, 0, ..., 0, 0, 0],\n",
       "        [0, 0, 0, ..., 0, 0, 0],\n",
       "        [0, 0, 0, ..., 0, 0, 0]],\n",
       "\n",
       "       [[0, 0, 0, ..., 0, 0, 0],\n",
       "        [0, 0, 0, ..., 0, 0, 0],\n",
       "        [0, 0, 0, ..., 0, 0, 0],\n",
       "        ...,\n",
       "        [0, 0, 0, ..., 0, 0, 0],\n",
       "        [0, 0, 0, ..., 0, 0, 0],\n",
       "        [0, 0, 0, ..., 0, 0, 0]],\n",
       "\n",
       "       ...,\n",
       "\n",
       "       [[0, 0, 0, ..., 0, 0, 0],\n",
       "        [0, 0, 0, ..., 0, 0, 0],\n",
       "        [0, 0, 0, ..., 0, 0, 0],\n",
       "        ...,\n",
       "        [0, 0, 0, ..., 0, 0, 0],\n",
       "        [0, 0, 0, ..., 0, 0, 0],\n",
       "        [0, 0, 0, ..., 0, 0, 0]],\n",
       "\n",
       "       [[0, 0, 0, ..., 0, 0, 0],\n",
       "        [0, 0, 0, ..., 0, 0, 0],\n",
       "        [0, 0, 0, ..., 0, 0, 0],\n",
       "        ...,\n",
       "        [0, 0, 0, ..., 0, 0, 0],\n",
       "        [0, 0, 0, ..., 0, 0, 0],\n",
       "        [0, 0, 0, ..., 0, 0, 0]],\n",
       "\n",
       "       [[0, 0, 0, ..., 0, 0, 0],\n",
       "        [0, 0, 0, ..., 0, 0, 0],\n",
       "        [0, 0, 0, ..., 0, 0, 0],\n",
       "        ...,\n",
       "        [0, 0, 0, ..., 0, 0, 0],\n",
       "        [0, 0, 0, ..., 0, 0, 0],\n",
       "        [0, 0, 0, ..., 0, 0, 0]]], dtype=uint8)"
      ]
     },
     "execution_count": 11,
     "metadata": {},
     "output_type": "execute_result"
    }
   ],
   "source": [
    "X_train"
   ]
  },
  {
   "cell_type": "code",
   "execution_count": 12,
   "id": "a1c0cb1a",
   "metadata": {
    "ExecuteTime": {
     "end_time": "2021-12-10T14:01:04.170743Z",
     "start_time": "2021-12-10T14:01:04.151069Z"
    }
   },
   "outputs": [
    {
     "data": {
      "text/plain": [
       "array([[  0,   0,   0,   0,   0,   0,   0,   0,   0,   0,   0,   0,   0,\n",
       "          0,   0,   0,   0,   0,   0,   0,   0,   0,   0,   0,   0,   0,\n",
       "          0,   0],\n",
       "       [  0,   0,   0,   0,   0,   0,   0,   0,   0,   0,   0,   0,   0,\n",
       "          0,   0,   0,   0,   0,   0,   0,   0,   0,   0,   0,   0,   0,\n",
       "          0,   0],\n",
       "       [  0,   0,   0,   0,   0,   0,   0,   0,   0,   0,   0,   0,   0,\n",
       "          0,   0,   0,   0,   0,   0,   0,   0,   0,   0,   0,   0,   0,\n",
       "          0,   0],\n",
       "       [  0,   0,   0,   0,   0,   0,   0,   0,   0,   0,   0,   0,   0,\n",
       "          0,   0,   0,   0,   0,   0,   0,   0,   0,   0,   0,   0,   0,\n",
       "          0,   0],\n",
       "       [  0,   0,   0,   0,   0,   0,   0,   0,   0,   0,   0,   0,   0,\n",
       "          0,   0,   0,   0,   0,   0,   0,   0,   0,   0,   0,   0,   0,\n",
       "          0,   0],\n",
       "       [  0,   0,   0,   0,   0,   0,   0,   0,   0,   0,   0,   0,   3,\n",
       "         18,  18,  18, 126, 136, 175,  26, 166, 255, 247, 127,   0,   0,\n",
       "          0,   0],\n",
       "       [  0,   0,   0,   0,   0,   0,   0,   0,  30,  36,  94, 154, 170,\n",
       "        253, 253, 253, 253, 253, 225, 172, 253, 242, 195,  64,   0,   0,\n",
       "          0,   0],\n",
       "       [  0,   0,   0,   0,   0,   0,   0,  49, 238, 253, 253, 253, 253,\n",
       "        253, 253, 253, 253, 251,  93,  82,  82,  56,  39,   0,   0,   0,\n",
       "          0,   0],\n",
       "       [  0,   0,   0,   0,   0,   0,   0,  18, 219, 253, 253, 253, 253,\n",
       "        253, 198, 182, 247, 241,   0,   0,   0,   0,   0,   0,   0,   0,\n",
       "          0,   0],\n",
       "       [  0,   0,   0,   0,   0,   0,   0,   0,  80, 156, 107, 253, 253,\n",
       "        205,  11,   0,  43, 154,   0,   0,   0,   0,   0,   0,   0,   0,\n",
       "          0,   0],\n",
       "       [  0,   0,   0,   0,   0,   0,   0,   0,   0,  14,   1, 154, 253,\n",
       "         90,   0,   0,   0,   0,   0,   0,   0,   0,   0,   0,   0,   0,\n",
       "          0,   0],\n",
       "       [  0,   0,   0,   0,   0,   0,   0,   0,   0,   0,   0, 139, 253,\n",
       "        190,   2,   0,   0,   0,   0,   0,   0,   0,   0,   0,   0,   0,\n",
       "          0,   0],\n",
       "       [  0,   0,   0,   0,   0,   0,   0,   0,   0,   0,   0,  11, 190,\n",
       "        253,  70,   0,   0,   0,   0,   0,   0,   0,   0,   0,   0,   0,\n",
       "          0,   0],\n",
       "       [  0,   0,   0,   0,   0,   0,   0,   0,   0,   0,   0,   0,  35,\n",
       "        241, 225, 160, 108,   1,   0,   0,   0,   0,   0,   0,   0,   0,\n",
       "          0,   0],\n",
       "       [  0,   0,   0,   0,   0,   0,   0,   0,   0,   0,   0,   0,   0,\n",
       "         81, 240, 253, 253, 119,  25,   0,   0,   0,   0,   0,   0,   0,\n",
       "          0,   0],\n",
       "       [  0,   0,   0,   0,   0,   0,   0,   0,   0,   0,   0,   0,   0,\n",
       "          0,  45, 186, 253, 253, 150,  27,   0,   0,   0,   0,   0,   0,\n",
       "          0,   0],\n",
       "       [  0,   0,   0,   0,   0,   0,   0,   0,   0,   0,   0,   0,   0,\n",
       "          0,   0,  16,  93, 252, 253, 187,   0,   0,   0,   0,   0,   0,\n",
       "          0,   0],\n",
       "       [  0,   0,   0,   0,   0,   0,   0,   0,   0,   0,   0,   0,   0,\n",
       "          0,   0,   0,   0, 249, 253, 249,  64,   0,   0,   0,   0,   0,\n",
       "          0,   0],\n",
       "       [  0,   0,   0,   0,   0,   0,   0,   0,   0,   0,   0,   0,   0,\n",
       "          0,  46, 130, 183, 253, 253, 207,   2,   0,   0,   0,   0,   0,\n",
       "          0,   0],\n",
       "       [  0,   0,   0,   0,   0,   0,   0,   0,   0,   0,   0,   0,  39,\n",
       "        148, 229, 253, 253, 253, 250, 182,   0,   0,   0,   0,   0,   0,\n",
       "          0,   0],\n",
       "       [  0,   0,   0,   0,   0,   0,   0,   0,   0,   0,  24, 114, 221,\n",
       "        253, 253, 253, 253, 201,  78,   0,   0,   0,   0,   0,   0,   0,\n",
       "          0,   0],\n",
       "       [  0,   0,   0,   0,   0,   0,   0,   0,  23,  66, 213, 253, 253,\n",
       "        253, 253, 198,  81,   2,   0,   0,   0,   0,   0,   0,   0,   0,\n",
       "          0,   0],\n",
       "       [  0,   0,   0,   0,   0,   0,  18, 171, 219, 253, 253, 253, 253,\n",
       "        195,  80,   9,   0,   0,   0,   0,   0,   0,   0,   0,   0,   0,\n",
       "          0,   0],\n",
       "       [  0,   0,   0,   0,  55, 172, 226, 253, 253, 253, 253, 244, 133,\n",
       "         11,   0,   0,   0,   0,   0,   0,   0,   0,   0,   0,   0,   0,\n",
       "          0,   0],\n",
       "       [  0,   0,   0,   0, 136, 253, 253, 253, 212, 135, 132,  16,   0,\n",
       "          0,   0,   0,   0,   0,   0,   0,   0,   0,   0,   0,   0,   0,\n",
       "          0,   0],\n",
       "       [  0,   0,   0,   0,   0,   0,   0,   0,   0,   0,   0,   0,   0,\n",
       "          0,   0,   0,   0,   0,   0,   0,   0,   0,   0,   0,   0,   0,\n",
       "          0,   0],\n",
       "       [  0,   0,   0,   0,   0,   0,   0,   0,   0,   0,   0,   0,   0,\n",
       "          0,   0,   0,   0,   0,   0,   0,   0,   0,   0,   0,   0,   0,\n",
       "          0,   0],\n",
       "       [  0,   0,   0,   0,   0,   0,   0,   0,   0,   0,   0,   0,   0,\n",
       "          0,   0,   0,   0,   0,   0,   0,   0,   0,   0,   0,   0,   0,\n",
       "          0,   0]], dtype=uint8)"
      ]
     },
     "execution_count": 12,
     "metadata": {},
     "output_type": "execute_result"
    }
   ],
   "source": [
    "X_train[0]"
   ]
  },
  {
   "cell_type": "code",
   "execution_count": 25,
   "id": "c75928a0",
   "metadata": {
    "ExecuteTime": {
     "end_time": "2021-12-10T14:07:43.106932Z",
     "start_time": "2021-12-10T14:07:42.950360Z"
    }
   },
   "outputs": [
    {
     "data": {
      "text/plain": [
       "<matplotlib.image.AxesImage at 0x2386ca71520>"
      ]
     },
     "execution_count": 25,
     "metadata": {},
     "output_type": "execute_result"
    },
    {
     "data": {
      "image/png": "[encoded data removed]",
      "text/plain": [
       "<Figure size 432x288 with 1 Axes>"
      ]
     },
     "metadata": {
      "needs_background": "light"
     },
     "output_type": "display_data"
    }
   ],
   "source": [
    "plt.imshow(X_train[59000],cmap='gray')"
   ]
  },
  {
   "cell_type": "markdown",
   "id": "e84bddf3",
   "metadata": {},
   "source": [
    "# 3 Data preparation"
   ]
  },
  {
   "cell_type": "code",
   "execution_count": 26,
   "id": "f4c5c27a",
   "metadata": {
    "ExecuteTime": {
     "end_time": "2021-12-10T14:08:21.043426Z",
     "start_time": "2021-12-10T14:08:20.741616Z"
    }
   },
   "outputs": [
    {
     "data": {
      "text/plain": [
       "78.56748998339798"
      ]
     },
     "execution_count": 26,
     "metadata": {},
     "output_type": "execute_result"
    }
   ],
   "source": [
    "X_train.std()"
   ]
  },
  {
   "cell_type": "code",
   "execution_count": 27,
   "id": "4372ec07",
   "metadata": {
    "ExecuteTime": {
     "end_time": "2021-12-10T14:08:27.319182Z",
     "start_time": "2021-12-10T14:08:27.252361Z"
    }
   },
   "outputs": [
    {
     "data": {
      "text/plain": [
       "79.17246322228644"
      ]
     },
     "execution_count": 27,
     "metadata": {},
     "output_type": "execute_result"
    }
   ],
   "source": [
    "x_test.std()"
   ]
  },
  {
   "cell_type": "code",
   "execution_count": 32,
   "id": "42586714",
   "metadata": {
    "ExecuteTime": {
     "end_time": "2021-12-10T14:14:57.278879Z",
     "start_time": "2021-12-10T14:14:57.109051Z"
    }
   },
   "outputs": [],
   "source": [
    "X_train = X_train/255\n",
    "X_test = X_test /255"
   ]
  },
  {
   "cell_type": "code",
   "execution_count": 33,
   "id": "a1028e21",
   "metadata": {
    "ExecuteTime": {
     "end_time": "2021-12-10T14:15:11.681305Z",
     "start_time": "2021-12-10T14:15:11.382117Z"
    }
   },
   "outputs": [
    {
     "data": {
      "text/plain": [
       "0.3081078038564622"
      ]
     },
     "execution_count": 33,
     "metadata": {},
     "output_type": "execute_result"
    }
   ],
   "source": [
    "X_train.std()"
   ]
  },
  {
   "cell_type": "code",
   "execution_count": 35,
   "id": "9337e961",
   "metadata": {
    "ExecuteTime": {
     "end_time": "2021-12-10T14:15:48.839702Z",
     "start_time": "2021-12-10T14:15:48.774193Z"
    }
   },
   "outputs": [
    {
     "data": {
      "text/plain": [
       "0.3104802479305348"
      ]
     },
     "execution_count": 35,
     "metadata": {},
     "output_type": "execute_result"
    }
   ],
   "source": [
    "X_test.std()"
   ]
  },
  {
   "cell_type": "markdown",
   "id": "354aa0c1",
   "metadata": {},
   "source": [
    "# Model Building"
   ]
  },
  {
   "cell_type": "code",
   "execution_count": 37,
   "id": "47297ab5",
   "metadata": {
    "ExecuteTime": {
     "end_time": "2021-12-10T14:17:55.404936Z",
     "start_time": "2021-12-10T14:17:55.397920Z"
    }
   },
   "outputs": [],
   "source": [
    "from tensorflow import keras\n",
    "import tensorflow as tf"
   ]
  },
  {
   "cell_type": "code",
   "execution_count": 50,
   "id": "e53bc10e",
   "metadata": {
    "ExecuteTime": {
     "end_time": "2021-12-10T15:10:29.187855Z",
     "start_time": "2021-12-10T15:10:29.172895Z"
    }
   },
   "outputs": [],
   "source": [
    "from tensorflow.keras.models import Sequential\n",
    "from tensorflow.keras.layers import Dense,Flatten"
   ]
  },
  {
   "cell_type": "markdown",
   "id": "c84f25ed",
   "metadata": {
    "ExecuteTime": {
     "end_time": "2021-12-10T14:18:21.343367Z",
     "start_time": "2021-12-10T14:18:21.332397Z"
    }
   },
   "source": [
    "#### Build the architechure"
   ]
  },
  {
   "cell_type": "code",
   "execution_count": 56,
   "id": "6181fce1",
   "metadata": {
    "ExecuteTime": {
     "end_time": "2021-12-10T15:13:30.026346Z",
     "start_time": "2021-12-10T15:13:29.971322Z"
    }
   },
   "outputs": [
    {
     "name": "stdout",
     "output_type": "stream",
     "text": [
      "Model: \"sequential_3\"\n",
      "_________________________________________________________________\n",
      " Layer (type)                Output Shape              Param #   \n",
      "=================================================================\n",
      " flatten_4 (Flatten)         (None, 784)               0         \n",
      "                                                                 \n",
      " dense_6 (Dense)             (None, 100)               78500     \n",
      "                                                                 \n",
      " dense_7 (Dense)             (None, 50)                5050      \n",
      "                                                                 \n",
      " dense_8 (Dense)             (None, 10)                510       \n",
      "                                                                 \n",
      "=================================================================\n",
      "Total params: 84,060\n",
      "Trainable params: 84,060\n",
      "Non-trainable params: 0\n",
      "_________________________________________________________________\n"
     ]
    }
   ],
   "source": [
    "model = Sequential()\n",
    "model.add(Flatten(input_shape = (28,28,1)))\n",
    "model.add(Dense(units = 100,activation = 'relu'))\n",
    "model.add(Dense(units = 50,activation = 'relu'))\n",
    "model.add(Dense(units = 10,activation = 'softmax'))\n",
    "model.summary()"
   ]
  },
  {
   "cell_type": "code",
   "execution_count": 52,
   "id": "d7237f7b",
   "metadata": {
    "ExecuteTime": {
     "end_time": "2021-12-10T15:10:42.885918Z",
     "start_time": "2021-12-10T15:10:42.867965Z"
    }
   },
   "outputs": [
    {
     "ename": "SyntaxError",
     "evalue": "invalid syntax (<ipython-input-52-eb4fc9296e2e>, line 3)",
     "output_type": "error",
     "traceback": [
      "\u001b[1;36m  File \u001b[1;32m\"<ipython-input-52-eb4fc9296e2e>\"\u001b[1;36m, line \u001b[1;32m3\u001b[0m\n\u001b[1;33m    model.add(Dense(units = 100,activation = 'relu'))\u001b[0m\n\u001b[1;37m    ^\u001b[0m\n\u001b[1;31mSyntaxError\u001b[0m\u001b[1;31m:\u001b[0m invalid syntax\n"
     ]
    }
   ],
   "source": [
    "model = Sequential()\n",
    "model.add(Flatten(input_shape = (28,28,1))\n",
    "model.add(Dense(units = 100,activation = 'relu'))\n",
    "model.add(Dense(units = 50,activation = 'relu'))\n",
    "model.add(Dense(units = 10,activation = 'softmax'))\n",
    "model.summary()"
   ]
  },
  {
   "cell_type": "markdown",
   "id": "4ac3aa1a",
   "metadata": {},
   "source": [
    "# Compile the architechure"
   ]
  },
  {
   "cell_type": "code",
   "execution_count": 70,
   "id": "3615a969",
   "metadata": {
    "ExecuteTime": {
     "end_time": "2021-12-10T15:22:23.390048Z",
     "start_time": "2021-12-10T15:22:23.380043Z"
    }
   },
   "outputs": [],
   "source": [
    "model.compile(optimizer='adam',loss='sparse_categorical_crossentropy',metrics='accuracy')"
   ]
  },
  {
   "cell_type": "markdown",
   "id": "91d64f2c",
   "metadata": {},
   "source": [
    "# Model Training"
   ]
  },
  {
   "cell_type": "code",
   "execution_count": 71,
   "id": "cbea61e8",
   "metadata": {
    "ExecuteTime": {
     "end_time": "2021-12-10T15:23:11.276452Z",
     "start_time": "2021-12-10T15:22:24.707643Z"
    }
   },
   "outputs": [
    {
     "name": "stdout",
     "output_type": "stream",
     "text": [
      "Epoch 1/50\n",
      "480/480 [==============================] - 1s 2ms/step - loss: 0.0047 - accuracy: 0.9986 - val_loss: 0.2010 - val_accuracy: 0.9768\n",
      "Epoch 2/50\n",
      "480/480 [==============================] - 1s 2ms/step - loss: 0.0028 - accuracy: 0.9991 - val_loss: 0.2348 - val_accuracy: 0.9741\n",
      "Epoch 3/50\n",
      "480/480 [==============================] - 1s 2ms/step - loss: 0.0033 - accuracy: 0.9991 - val_loss: 0.2047 - val_accuracy: 0.9774\n",
      "Epoch 4/50\n",
      "480/480 [==============================] - 1s 2ms/step - loss: 0.0044 - accuracy: 0.9986 - val_loss: 0.2343 - val_accuracy: 0.9751\n",
      "Epoch 5/50\n",
      "480/480 [==============================] - 1s 2ms/step - loss: 0.0031 - accuracy: 0.9989 - val_loss: 0.2189 - val_accuracy: 0.9755\n",
      "Epoch 6/50\n",
      "480/480 [==============================] - 1s 2ms/step - loss: 0.0034 - accuracy: 0.9990 - val_loss: 0.2109 - val_accuracy: 0.9746\n",
      "Epoch 7/50\n",
      "480/480 [==============================] - 1s 2ms/step - loss: 0.0014 - accuracy: 0.9994 - val_loss: 0.2498 - val_accuracy: 0.9719\n",
      "Epoch 8/50\n",
      "480/480 [==============================] - 1s 2ms/step - loss: 0.0058 - accuracy: 0.9981 - val_loss: 0.2674 - val_accuracy: 0.9693\n",
      "Epoch 9/50\n",
      "480/480 [==============================] - 1s 2ms/step - loss: 0.0034 - accuracy: 0.9989 - val_loss: 0.2242 - val_accuracy: 0.9747\n",
      "Epoch 10/50\n",
      "480/480 [==============================] - 1s 2ms/step - loss: 0.0012 - accuracy: 0.9996 - val_loss: 0.2123 - val_accuracy: 0.9780\n",
      "Epoch 11/50\n",
      "480/480 [==============================] - 1s 2ms/step - loss: 3.3244e-04 - accuracy: 0.9999 - val_loss: 0.2200 - val_accuracy: 0.9758\n",
      "Epoch 12/50\n",
      "480/480 [==============================] - 1s 2ms/step - loss: 0.0079 - accuracy: 0.9977 - val_loss: 0.2212 - val_accuracy: 0.9748\n",
      "Epoch 13/50\n",
      "480/480 [==============================] - 1s 2ms/step - loss: 0.0054 - accuracy: 0.9982 - val_loss: 0.2125 - val_accuracy: 0.9745\n",
      "Epoch 14/50\n",
      "480/480 [==============================] - 1s 2ms/step - loss: 0.0023 - accuracy: 0.9994 - val_loss: 0.2200 - val_accuracy: 0.9770\n",
      "Epoch 15/50\n",
      "480/480 [==============================] - 1s 2ms/step - loss: 8.6920e-04 - accuracy: 0.9996 - val_loss: 0.2179 - val_accuracy: 0.9765\n",
      "Epoch 16/50\n",
      "480/480 [==============================] - 1s 2ms/step - loss: 2.5322e-04 - accuracy: 0.9999 - val_loss: 0.2051 - val_accuracy: 0.9776\n",
      "Epoch 17/50\n",
      "480/480 [==============================] - 1s 2ms/step - loss: 2.0572e-05 - accuracy: 1.0000 - val_loss: 0.2015 - val_accuracy: 0.9779\n",
      "Epoch 18/50\n",
      "480/480 [==============================] - 1s 2ms/step - loss: 1.2624e-05 - accuracy: 1.0000 - val_loss: 0.2016 - val_accuracy: 0.9780\n",
      "Epoch 19/50\n",
      "480/480 [==============================] - 1s 2ms/step - loss: 1.0333e-05 - accuracy: 1.0000 - val_loss: 0.2017 - val_accuracy: 0.9778\n",
      "Epoch 20/50\n",
      "480/480 [==============================] - 1s 2ms/step - loss: 8.7741e-06 - accuracy: 1.0000 - val_loss: 0.2017 - val_accuracy: 0.9783\n",
      "Epoch 21/50\n",
      "480/480 [==============================] - 1s 2ms/step - loss: 7.5511e-06 - accuracy: 1.0000 - val_loss: 0.2020 - val_accuracy: 0.9783\n",
      "Epoch 22/50\n",
      "480/480 [==============================] - 1s 2ms/step - loss: 6.5017e-06 - accuracy: 1.0000 - val_loss: 0.2025 - val_accuracy: 0.9783\n",
      "Epoch 23/50\n",
      "480/480 [==============================] - 1s 2ms/step - loss: 5.6388e-06 - accuracy: 1.0000 - val_loss: 0.2030 - val_accuracy: 0.9783\n",
      "Epoch 24/50\n",
      "480/480 [==============================] - 1s 2ms/step - loss: 4.8708e-06 - accuracy: 1.0000 - val_loss: 0.2034 - val_accuracy: 0.9782\n",
      "Epoch 25/50\n",
      "480/480 [==============================] - 1s 2ms/step - loss: 4.2138e-06 - accuracy: 1.0000 - val_loss: 0.2043 - val_accuracy: 0.9784\n",
      "Epoch 26/50\n",
      "480/480 [==============================] - 1s 2ms/step - loss: 3.6307e-06 - accuracy: 1.0000 - val_loss: 0.2052 - val_accuracy: 0.9783\n",
      "Epoch 27/50\n",
      "480/480 [==============================] - 1s 2ms/step - loss: 3.1213e-06 - accuracy: 1.0000 - val_loss: 0.2061 - val_accuracy: 0.9783\n",
      "Epoch 28/50\n",
      "480/480 [==============================] - 1s 2ms/step - loss: 2.6599e-06 - accuracy: 1.0000 - val_loss: 0.2072 - val_accuracy: 0.9786\n",
      "Epoch 29/50\n",
      "480/480 [==============================] - 1s 2ms/step - loss: 2.2583e-06 - accuracy: 1.0000 - val_loss: 0.2078 - val_accuracy: 0.9790\n",
      "Epoch 30/50\n",
      "480/480 [==============================] - 1s 2ms/step - loss: 1.9278e-06 - accuracy: 1.0000 - val_loss: 0.2091 - val_accuracy: 0.9787\n",
      "Epoch 31/50\n",
      "480/480 [==============================] - 1s 2ms/step - loss: 1.6405e-06 - accuracy: 1.0000 - val_loss: 0.2104 - val_accuracy: 0.9787\n",
      "Epoch 32/50\n",
      "480/480 [==============================] - 1s 2ms/step - loss: 1.3827e-06 - accuracy: 1.0000 - val_loss: 0.2119 - val_accuracy: 0.9787\n",
      "Epoch 33/50\n",
      "480/480 [==============================] - 1s 2ms/step - loss: 1.1672e-06 - accuracy: 1.0000 - val_loss: 0.2128 - val_accuracy: 0.9789\n",
      "Epoch 34/50\n",
      "480/480 [==============================] - 1s 2ms/step - loss: 9.8044e-07 - accuracy: 1.0000 - val_loss: 0.2141 - val_accuracy: 0.9788\n",
      "Epoch 35/50\n",
      "480/480 [==============================] - 1s 2ms/step - loss: 8.3716e-07 - accuracy: 1.0000 - val_loss: 0.2160 - val_accuracy: 0.9787\n",
      "Epoch 36/50\n",
      "480/480 [==============================] - 1s 2ms/step - loss: 6.9514e-07 - accuracy: 1.0000 - val_loss: 0.2175 - val_accuracy: 0.9787\n",
      "Epoch 37/50\n",
      "480/480 [==============================] - 1s 2ms/step - loss: 5.8418e-07 - accuracy: 1.0000 - val_loss: 0.2189 - val_accuracy: 0.9787\n",
      "Epoch 38/50\n",
      "480/480 [==============================] - 1s 2ms/step - loss: 4.8578e-07 - accuracy: 1.0000 - val_loss: 0.2208 - val_accuracy: 0.9787\n",
      "Epoch 39/50\n",
      "480/480 [==============================] - 1s 2ms/step - loss: 4.0445e-07 - accuracy: 1.0000 - val_loss: 0.2221 - val_accuracy: 0.9789\n",
      "Epoch 40/50\n",
      "480/480 [==============================] - 1s 2ms/step - loss: 3.4005e-07 - accuracy: 1.0000 - val_loss: 0.2240 - val_accuracy: 0.9787\n",
      "Epoch 41/50\n",
      "480/480 [==============================] - 1s 2ms/step - loss: 2.7936e-07 - accuracy: 1.0000 - val_loss: 0.2264 - val_accuracy: 0.9792\n",
      "Epoch 42/50\n",
      "480/480 [==============================] - 1s 2ms/step - loss: 2.3735e-07 - accuracy: 1.0000 - val_loss: 0.2270 - val_accuracy: 0.9790\n",
      "Epoch 43/50\n",
      "480/480 [==============================] - 1s 2ms/step - loss: 1.9311e-07 - accuracy: 1.0000 - val_loss: 0.2295 - val_accuracy: 0.9793\n",
      "Epoch 44/50\n",
      "480/480 [==============================] - 1s 2ms/step - loss: 1.5806e-07 - accuracy: 1.0000 - val_loss: 0.2300 - val_accuracy: 0.9792\n",
      "Epoch 45/50\n",
      "480/480 [==============================] - 1s 2ms/step - loss: 1.2966e-07 - accuracy: 1.0000 - val_loss: 0.2316 - val_accuracy: 0.9788\n",
      "Epoch 46/50\n",
      "480/480 [==============================] - 1s 2ms/step - loss: 1.1021e-07 - accuracy: 1.0000 - val_loss: 0.2350 - val_accuracy: 0.9794\n",
      "Epoch 47/50\n",
      "480/480 [==============================] - 1s 2ms/step - loss: 9.1478e-08 - accuracy: 1.0000 - val_loss: 0.2368 - val_accuracy: 0.9794\n",
      "Epoch 48/50\n",
      "480/480 [==============================] - 1s 2ms/step - loss: 7.1819e-08 - accuracy: 1.0000 - val_loss: 0.2387 - val_accuracy: 0.9790\n",
      "Epoch 49/50\n",
      "480/480 [==============================] - 1s 2ms/step - loss: 5.8959e-08 - accuracy: 1.0000 - val_loss: 0.2411 - val_accuracy: 0.9794\n",
      "Epoch 50/50\n",
      "480/480 [==============================] - 1s 2ms/step - loss: 4.7949e-08 - accuracy: 1.0000 - val_loss: 0.2447 - val_accuracy: 0.9794\n"
     ]
    },
    {
     "data": {
      "text/plain": [
       "<keras.callbacks.History at 0x23810095bb0>"
      ]
     },
     "execution_count": 71,
     "metadata": {},
     "output_type": "execute_result"
    }
   ],
   "source": [
    "model.fit(x=X_train,y=y_train,batch_size=100,epochs=50,validation_split=0.20)"
   ]
  },
  {
   "cell_type": "markdown",
   "id": "b3824adf",
   "metadata": {},
   "source": [
    "# Model Testing"
   ]
  },
  {
   "cell_type": "code",
   "execution_count": 76,
   "id": "d4aaa468",
   "metadata": {
    "ExecuteTime": {
     "end_time": "2021-12-10T15:23:49.444714Z",
     "start_time": "2021-12-10T15:23:48.883066Z"
    }
   },
   "outputs": [
    {
     "name": "stdout",
     "output_type": "stream",
     "text": [
      "313/313 [==============================] - 1s 2ms/step - loss: 0.2116 - accuracy: 0.9809\n"
     ]
    },
    {
     "data": {
      "text/plain": [
       "[0.2115887999534607, 0.98089998960495]"
      ]
     },
     "execution_count": 76,
     "metadata": {},
     "output_type": "execute_result"
    }
   ],
   "source": [
    "model.evaluate(X_test,y_test)"
   ]
  },
  {
   "cell_type": "code",
   "execution_count": 77,
   "id": "7b4ba966",
   "metadata": {
    "ExecuteTime": {
     "end_time": "2021-12-10T15:24:09.984957Z",
     "start_time": "2021-12-10T15:24:09.827346Z"
    }
   },
   "outputs": [
    {
     "data": {
      "text/plain": [
       "<matplotlib.image.AxesImage at 0x238120ccbe0>"
      ]
     },
     "execution_count": 77,
     "metadata": {},
     "output_type": "execute_result"
    },
    {
     "data": {
      "image/png": "[encoded data removed]",
      "text/plain": [
       "<Figure size 432x288 with 1 Axes>"
      ]
     },
     "metadata": {
      "needs_background": "light"
     },
     "output_type": "display_data"
    }
   ],
   "source": [
    "plt.imshow(X_test[9000])"
   ]
  },
  {
   "cell_type": "code",
   "execution_count": 78,
   "id": "34643833",
   "metadata": {
    "ExecuteTime": {
     "end_time": "2021-12-10T15:24:20.679351Z",
     "start_time": "2021-12-10T15:24:20.339915Z"
    }
   },
   "outputs": [
    {
     "name": "stdout",
     "output_type": "stream",
     "text": [
      "7\n"
     ]
    }
   ],
   "source": [
    "import numpy as np\n",
    "pred = model.predict(X_test)\n",
    "print(np.argmax(pred[9000]))"
   ]
  },
  {
   "cell_type": "code",
   "execution_count": 69,
   "id": "c51b61ea",
   "metadata": {
    "ExecuteTime": {
     "end_time": "2021-12-10T15:20:40.297875Z",
     "start_time": "2021-12-10T15:20:40.291890Z"
    }
   },
   "outputs": [
    {
     "name": "stdout",
     "output_type": "stream",
     "text": [
      "0.99999976\n"
     ]
    }
   ],
   "source": [
    "print(np.max(pred[300]))"
   ]
  },
  {
   "cell_type": "code",
   "execution_count": null,
   "id": "d407ba4a",
   "metadata": {},
   "outputs": [],
   "source": []
  }
 ],
 "metadata": {
  "kernelspec": {
   "display_name": "Python 3",
   "language": "python",
   "name": "python3"
  },
  "language_info": {
   "codemirror_mode": {
    "name": "ipython",
    "version": 3
   },
   "file_extension": ".py",
   "mimetype": "text/x-python",
   "name": "python",
   "nbconvert_exporter": "python",
   "pygments_lexer": "ipython3",
   "version": "3.8.8"
  },
  "varInspector": {
   "cols": {
    "lenName": 16,
    "lenType": 16,
    "lenVar": 40
   },
   "kernels_config": {
    "python": {
     "delete_cmd_postfix": "",
     "delete_cmd_prefix": "del ",
     "library": "var_list.py",
     "varRefreshCmd": "print(var_dic_list())"
    },
    "r": {
     "delete_cmd_postfix": ") ",
     "delete_cmd_prefix": "rm(",
     "library": "var_list.r",
     "varRefreshCmd": "cat(var_dic_list()) "
    }
   },
   "types_to_exclude": [
    "module",
    "function",
    "builtin_function_or_method",
    "instance",
    "_Feature"
   ],
   "window_display": false
  }
 },
 "nbformat": 4,
 "nbformat_minor": 5
}
