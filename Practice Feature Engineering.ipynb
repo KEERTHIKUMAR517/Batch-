{
 "cells": [
  {
   "cell_type": "code",
   "execution_count": 30,
   "id": "bb151ed7",
   "metadata": {
    "ExecuteTime": {
     "end_time": "2021-12-04T08:05:45.741796Z",
     "start_time": "2021-12-04T08:05:45.737844Z"
    }
   },
   "outputs": [],
   "source": [
    "import pandas as pd\n",
    "import numpy as np\n",
    "\n",
    "import warnings\n",
    "warnings.filterwarnings('ignore')"
   ]
  },
  {
   "cell_type": "code",
   "execution_count": 2,
   "id": "35f69063",
   "metadata": {
    "ExecuteTime": {
     "end_time": "2021-12-04T07:56:05.568758Z",
     "start_time": "2021-12-04T07:56:03.728512Z"
    }
   },
   "outputs": [
    {
     "data": {
      "text/html": [
       "<div>\n",
       "<style scoped>\n",
       "    .dataframe tbody tr th:only-of-type {\n",
       "        vertical-align: middle;\n",
       "    }\n",
       "\n",
       "    .dataframe tbody tr th {\n",
       "        vertical-align: top;\n",
       "    }\n",
       "\n",
       "    .dataframe thead th {\n",
       "        text-align: right;\n",
       "    }\n",
       "</style>\n",
       "<table border=\"1\" class=\"dataframe\">\n",
       "  <thead>\n",
       "    <tr style=\"text-align: right;\">\n",
       "      <th></th>\n",
       "      <th>mean radius</th>\n",
       "      <th>mean texture</th>\n",
       "      <th>mean perimeter</th>\n",
       "      <th>mean area</th>\n",
       "      <th>mean smoothness</th>\n",
       "      <th>mean compactness</th>\n",
       "      <th>mean concavity</th>\n",
       "      <th>mean concave points</th>\n",
       "      <th>mean symmetry</th>\n",
       "      <th>mean fractal dimension</th>\n",
       "      <th>...</th>\n",
       "      <th>worst texture</th>\n",
       "      <th>worst perimeter</th>\n",
       "      <th>worst area</th>\n",
       "      <th>worst smoothness</th>\n",
       "      <th>worst compactness</th>\n",
       "      <th>worst concavity</th>\n",
       "      <th>worst concave points</th>\n",
       "      <th>worst symmetry</th>\n",
       "      <th>worst fractal dimension</th>\n",
       "      <th>target</th>\n",
       "    </tr>\n",
       "  </thead>\n",
       "  <tbody>\n",
       "    <tr>\n",
       "      <th>0</th>\n",
       "      <td>17.99</td>\n",
       "      <td>10.38</td>\n",
       "      <td>122.80</td>\n",
       "      <td>1001.0</td>\n",
       "      <td>0.11840</td>\n",
       "      <td>0.27760</td>\n",
       "      <td>0.30010</td>\n",
       "      <td>0.14710</td>\n",
       "      <td>0.2419</td>\n",
       "      <td>0.07871</td>\n",
       "      <td>...</td>\n",
       "      <td>17.33</td>\n",
       "      <td>184.60</td>\n",
       "      <td>2019.0</td>\n",
       "      <td>0.16220</td>\n",
       "      <td>0.66560</td>\n",
       "      <td>0.7119</td>\n",
       "      <td>0.2654</td>\n",
       "      <td>0.4601</td>\n",
       "      <td>0.11890</td>\n",
       "      <td>0</td>\n",
       "    </tr>\n",
       "    <tr>\n",
       "      <th>1</th>\n",
       "      <td>20.57</td>\n",
       "      <td>17.77</td>\n",
       "      <td>132.90</td>\n",
       "      <td>1326.0</td>\n",
       "      <td>0.08474</td>\n",
       "      <td>0.07864</td>\n",
       "      <td>0.08690</td>\n",
       "      <td>0.07017</td>\n",
       "      <td>0.1812</td>\n",
       "      <td>0.05667</td>\n",
       "      <td>...</td>\n",
       "      <td>23.41</td>\n",
       "      <td>158.80</td>\n",
       "      <td>1956.0</td>\n",
       "      <td>0.12380</td>\n",
       "      <td>0.18660</td>\n",
       "      <td>0.2416</td>\n",
       "      <td>0.1860</td>\n",
       "      <td>0.2750</td>\n",
       "      <td>0.08902</td>\n",
       "      <td>0</td>\n",
       "    </tr>\n",
       "    <tr>\n",
       "      <th>2</th>\n",
       "      <td>19.69</td>\n",
       "      <td>21.25</td>\n",
       "      <td>130.00</td>\n",
       "      <td>1203.0</td>\n",
       "      <td>0.10960</td>\n",
       "      <td>0.15990</td>\n",
       "      <td>0.19740</td>\n",
       "      <td>0.12790</td>\n",
       "      <td>0.2069</td>\n",
       "      <td>0.05999</td>\n",
       "      <td>...</td>\n",
       "      <td>25.53</td>\n",
       "      <td>152.50</td>\n",
       "      <td>1709.0</td>\n",
       "      <td>0.14440</td>\n",
       "      <td>0.42450</td>\n",
       "      <td>0.4504</td>\n",
       "      <td>0.2430</td>\n",
       "      <td>0.3613</td>\n",
       "      <td>0.08758</td>\n",
       "      <td>0</td>\n",
       "    </tr>\n",
       "    <tr>\n",
       "      <th>3</th>\n",
       "      <td>11.42</td>\n",
       "      <td>20.38</td>\n",
       "      <td>77.58</td>\n",
       "      <td>386.1</td>\n",
       "      <td>0.14250</td>\n",
       "      <td>0.28390</td>\n",
       "      <td>0.24140</td>\n",
       "      <td>0.10520</td>\n",
       "      <td>0.2597</td>\n",
       "      <td>0.09744</td>\n",
       "      <td>...</td>\n",
       "      <td>26.50</td>\n",
       "      <td>98.87</td>\n",
       "      <td>567.7</td>\n",
       "      <td>0.20980</td>\n",
       "      <td>0.86630</td>\n",
       "      <td>0.6869</td>\n",
       "      <td>0.2575</td>\n",
       "      <td>0.6638</td>\n",
       "      <td>0.17300</td>\n",
       "      <td>0</td>\n",
       "    </tr>\n",
       "    <tr>\n",
       "      <th>4</th>\n",
       "      <td>20.29</td>\n",
       "      <td>14.34</td>\n",
       "      <td>135.10</td>\n",
       "      <td>1297.0</td>\n",
       "      <td>0.10030</td>\n",
       "      <td>0.13280</td>\n",
       "      <td>0.19800</td>\n",
       "      <td>0.10430</td>\n",
       "      <td>0.1809</td>\n",
       "      <td>0.05883</td>\n",
       "      <td>...</td>\n",
       "      <td>16.67</td>\n",
       "      <td>152.20</td>\n",
       "      <td>1575.0</td>\n",
       "      <td>0.13740</td>\n",
       "      <td>0.20500</td>\n",
       "      <td>0.4000</td>\n",
       "      <td>0.1625</td>\n",
       "      <td>0.2364</td>\n",
       "      <td>0.07678</td>\n",
       "      <td>0</td>\n",
       "    </tr>\n",
       "    <tr>\n",
       "      <th>...</th>\n",
       "      <td>...</td>\n",
       "      <td>...</td>\n",
       "      <td>...</td>\n",
       "      <td>...</td>\n",
       "      <td>...</td>\n",
       "      <td>...</td>\n",
       "      <td>...</td>\n",
       "      <td>...</td>\n",
       "      <td>...</td>\n",
       "      <td>...</td>\n",
       "      <td>...</td>\n",
       "      <td>...</td>\n",
       "      <td>...</td>\n",
       "      <td>...</td>\n",
       "      <td>...</td>\n",
       "      <td>...</td>\n",
       "      <td>...</td>\n",
       "      <td>...</td>\n",
       "      <td>...</td>\n",
       "      <td>...</td>\n",
       "      <td>...</td>\n",
       "    </tr>\n",
       "    <tr>\n",
       "      <th>564</th>\n",
       "      <td>21.56</td>\n",
       "      <td>22.39</td>\n",
       "      <td>142.00</td>\n",
       "      <td>1479.0</td>\n",
       "      <td>0.11100</td>\n",
       "      <td>0.11590</td>\n",
       "      <td>0.24390</td>\n",
       "      <td>0.13890</td>\n",
       "      <td>0.1726</td>\n",
       "      <td>0.05623</td>\n",
       "      <td>...</td>\n",
       "      <td>26.40</td>\n",
       "      <td>166.10</td>\n",
       "      <td>2027.0</td>\n",
       "      <td>0.14100</td>\n",
       "      <td>0.21130</td>\n",
       "      <td>0.4107</td>\n",
       "      <td>0.2216</td>\n",
       "      <td>0.2060</td>\n",
       "      <td>0.07115</td>\n",
       "      <td>0</td>\n",
       "    </tr>\n",
       "    <tr>\n",
       "      <th>565</th>\n",
       "      <td>20.13</td>\n",
       "      <td>28.25</td>\n",
       "      <td>131.20</td>\n",
       "      <td>1261.0</td>\n",
       "      <td>0.09780</td>\n",
       "      <td>0.10340</td>\n",
       "      <td>0.14400</td>\n",
       "      <td>0.09791</td>\n",
       "      <td>0.1752</td>\n",
       "      <td>0.05533</td>\n",
       "      <td>...</td>\n",
       "      <td>38.25</td>\n",
       "      <td>155.00</td>\n",
       "      <td>1731.0</td>\n",
       "      <td>0.11660</td>\n",
       "      <td>0.19220</td>\n",
       "      <td>0.3215</td>\n",
       "      <td>0.1628</td>\n",
       "      <td>0.2572</td>\n",
       "      <td>0.06637</td>\n",
       "      <td>0</td>\n",
       "    </tr>\n",
       "    <tr>\n",
       "      <th>566</th>\n",
       "      <td>16.60</td>\n",
       "      <td>28.08</td>\n",
       "      <td>108.30</td>\n",
       "      <td>858.1</td>\n",
       "      <td>0.08455</td>\n",
       "      <td>0.10230</td>\n",
       "      <td>0.09251</td>\n",
       "      <td>0.05302</td>\n",
       "      <td>0.1590</td>\n",
       "      <td>0.05648</td>\n",
       "      <td>...</td>\n",
       "      <td>34.12</td>\n",
       "      <td>126.70</td>\n",
       "      <td>1124.0</td>\n",
       "      <td>0.11390</td>\n",
       "      <td>0.30940</td>\n",
       "      <td>0.3403</td>\n",
       "      <td>0.1418</td>\n",
       "      <td>0.2218</td>\n",
       "      <td>0.07820</td>\n",
       "      <td>0</td>\n",
       "    </tr>\n",
       "    <tr>\n",
       "      <th>567</th>\n",
       "      <td>20.60</td>\n",
       "      <td>29.33</td>\n",
       "      <td>140.10</td>\n",
       "      <td>1265.0</td>\n",
       "      <td>0.11780</td>\n",
       "      <td>0.27700</td>\n",
       "      <td>0.35140</td>\n",
       "      <td>0.15200</td>\n",
       "      <td>0.2397</td>\n",
       "      <td>0.07016</td>\n",
       "      <td>...</td>\n",
       "      <td>39.42</td>\n",
       "      <td>184.60</td>\n",
       "      <td>1821.0</td>\n",
       "      <td>0.16500</td>\n",
       "      <td>0.86810</td>\n",
       "      <td>0.9387</td>\n",
       "      <td>0.2650</td>\n",
       "      <td>0.4087</td>\n",
       "      <td>0.12400</td>\n",
       "      <td>0</td>\n",
       "    </tr>\n",
       "    <tr>\n",
       "      <th>568</th>\n",
       "      <td>7.76</td>\n",
       "      <td>24.54</td>\n",
       "      <td>47.92</td>\n",
       "      <td>181.0</td>\n",
       "      <td>0.05263</td>\n",
       "      <td>0.04362</td>\n",
       "      <td>0.00000</td>\n",
       "      <td>0.00000</td>\n",
       "      <td>0.1587</td>\n",
       "      <td>0.05884</td>\n",
       "      <td>...</td>\n",
       "      <td>30.37</td>\n",
       "      <td>59.16</td>\n",
       "      <td>268.6</td>\n",
       "      <td>0.08996</td>\n",
       "      <td>0.06444</td>\n",
       "      <td>0.0000</td>\n",
       "      <td>0.0000</td>\n",
       "      <td>0.2871</td>\n",
       "      <td>0.07039</td>\n",
       "      <td>1</td>\n",
       "    </tr>\n",
       "  </tbody>\n",
       "</table>\n",
       "<p>569 rows × 31 columns</p>\n",
       "</div>"
      ],
      "text/plain": [
       "     mean radius  mean texture  mean perimeter  mean area  mean smoothness  \\\n",
       "0          17.99         10.38          122.80     1001.0          0.11840   \n",
       "1          20.57         17.77          132.90     1326.0          0.08474   \n",
       "2          19.69         21.25          130.00     1203.0          0.10960   \n",
       "3          11.42         20.38           77.58      386.1          0.14250   \n",
       "4          20.29         14.34          135.10     1297.0          0.10030   \n",
       "..           ...           ...             ...        ...              ...   \n",
       "564        21.56         22.39          142.00     1479.0          0.11100   \n",
       "565        20.13         28.25          131.20     1261.0          0.09780   \n",
       "566        16.60         28.08          108.30      858.1          0.08455   \n",
       "567        20.60         29.33          140.10     1265.0          0.11780   \n",
       "568         7.76         24.54           47.92      181.0          0.05263   \n",
       "\n",
       "     mean compactness  mean concavity  mean concave points  mean symmetry  \\\n",
       "0             0.27760         0.30010              0.14710         0.2419   \n",
       "1             0.07864         0.08690              0.07017         0.1812   \n",
       "2             0.15990         0.19740              0.12790         0.2069   \n",
       "3             0.28390         0.24140              0.10520         0.2597   \n",
       "4             0.13280         0.19800              0.10430         0.1809   \n",
       "..                ...             ...                  ...            ...   \n",
       "564           0.11590         0.24390              0.13890         0.1726   \n",
       "565           0.10340         0.14400              0.09791         0.1752   \n",
       "566           0.10230         0.09251              0.05302         0.1590   \n",
       "567           0.27700         0.35140              0.15200         0.2397   \n",
       "568           0.04362         0.00000              0.00000         0.1587   \n",
       "\n",
       "     mean fractal dimension  ...  worst texture  worst perimeter  worst area  \\\n",
       "0                   0.07871  ...          17.33           184.60      2019.0   \n",
       "1                   0.05667  ...          23.41           158.80      1956.0   \n",
       "2                   0.05999  ...          25.53           152.50      1709.0   \n",
       "3                   0.09744  ...          26.50            98.87       567.7   \n",
       "4                   0.05883  ...          16.67           152.20      1575.0   \n",
       "..                      ...  ...            ...              ...         ...   \n",
       "564                 0.05623  ...          26.40           166.10      2027.0   \n",
       "565                 0.05533  ...          38.25           155.00      1731.0   \n",
       "566                 0.05648  ...          34.12           126.70      1124.0   \n",
       "567                 0.07016  ...          39.42           184.60      1821.0   \n",
       "568                 0.05884  ...          30.37            59.16       268.6   \n",
       "\n",
       "     worst smoothness  worst compactness  worst concavity  \\\n",
       "0             0.16220            0.66560           0.7119   \n",
       "1             0.12380            0.18660           0.2416   \n",
       "2             0.14440            0.42450           0.4504   \n",
       "3             0.20980            0.86630           0.6869   \n",
       "4             0.13740            0.20500           0.4000   \n",
       "..                ...                ...              ...   \n",
       "564           0.14100            0.21130           0.4107   \n",
       "565           0.11660            0.19220           0.3215   \n",
       "566           0.11390            0.30940           0.3403   \n",
       "567           0.16500            0.86810           0.9387   \n",
       "568           0.08996            0.06444           0.0000   \n",
       "\n",
       "     worst concave points  worst symmetry  worst fractal dimension  target  \n",
       "0                  0.2654          0.4601                  0.11890       0  \n",
       "1                  0.1860          0.2750                  0.08902       0  \n",
       "2                  0.2430          0.3613                  0.08758       0  \n",
       "3                  0.2575          0.6638                  0.17300       0  \n",
       "4                  0.1625          0.2364                  0.07678       0  \n",
       "..                    ...             ...                      ...     ...  \n",
       "564                0.2216          0.2060                  0.07115       0  \n",
       "565                0.1628          0.2572                  0.06637       0  \n",
       "566                0.1418          0.2218                  0.07820       0  \n",
       "567                0.2650          0.4087                  0.12400       0  \n",
       "568                0.0000          0.2871                  0.07039       1  \n",
       "\n",
       "[569 rows x 31 columns]"
      ]
     },
     "execution_count": 2,
     "metadata": {},
     "output_type": "execute_result"
    }
   ],
   "source": [
    "from sklearn.datasets import load_breast_cancer\n",
    "cancer = load_breast_cancer()\n",
    "cancer_df = pd.DataFrame(data = cancer.data,columns=cancer.feature_names)\n",
    "cancer_df['target'] = cancer.target\n",
    "cancer_df"
   ]
  },
  {
   "cell_type": "markdown",
   "id": "7ffa2645",
   "metadata": {},
   "source": [
    "# Feature Selection techniques\n",
    "## sklearn - SelectFromModel\n",
    "## sklearn - RFE(i.e, Recursive Feature Elimination)"
   ]
  },
  {
   "cell_type": "markdown",
   "id": "ebd5f51d",
   "metadata": {},
   "source": [
    "# Model Building"
   ]
  },
  {
   "cell_type": "code",
   "execution_count": 3,
   "id": "f37565b8",
   "metadata": {
    "ExecuteTime": {
     "end_time": "2021-12-04T07:56:05.615639Z",
     "start_time": "2021-12-04T07:56:05.605662Z"
    }
   },
   "outputs": [],
   "source": [
    "X = cancer_df.iloc[:,:-1]\n",
    "y = cancer_df.iloc[:,30:]\n"
   ]
  },
  {
   "cell_type": "code",
   "execution_count": 4,
   "id": "856bcb91",
   "metadata": {
    "ExecuteTime": {
     "end_time": "2021-12-04T07:56:05.771852Z",
     "start_time": "2021-12-04T07:56:05.679728Z"
    }
   },
   "outputs": [],
   "source": [
    "from sklearn.model_selection import train_test_split\n",
    "X_train,X_test,y_train,y_test = train_test_split(X,y,random_state=12,test_size=.20,stratify=y)"
   ]
  },
  {
   "cell_type": "code",
   "execution_count": 5,
   "id": "21b48854",
   "metadata": {
    "ExecuteTime": {
     "end_time": "2021-12-04T07:56:05.882488Z",
     "start_time": "2021-12-04T07:56:05.868520Z"
    }
   },
   "outputs": [
    {
     "data": {
      "text/plain": [
       "((455, 30), (455, 1))"
      ]
     },
     "execution_count": 5,
     "metadata": {},
     "output_type": "execute_result"
    }
   ],
   "source": [
    "X_train.shape,y_train.shape"
   ]
  },
  {
   "cell_type": "markdown",
   "id": "162caa7b",
   "metadata": {},
   "source": [
    "### Feature Selection\n",
    "#### 1. SelectFromModel"
   ]
  },
  {
   "cell_type": "code",
   "execution_count": 6,
   "id": "c9987373",
   "metadata": {
    "ExecuteTime": {
     "end_time": "2021-12-04T07:56:06.931340Z",
     "start_time": "2021-12-04T07:56:06.634074Z"
    }
   },
   "outputs": [],
   "source": [
    "from sklearn.feature_selection import SelectFromModel,RFE\n",
    "from sklearn.ensemble import RandomForestClassifier,GradientBoostingClassifier"
   ]
  },
  {
   "cell_type": "code",
   "execution_count": 7,
   "id": "efcda39e",
   "metadata": {
    "ExecuteTime": {
     "end_time": "2021-12-04T07:56:18.010171Z",
     "start_time": "2021-12-04T07:56:17.993295Z"
    }
   },
   "outputs": [],
   "source": [
    "rf =RandomForestClassifier(max_depth=10,random_state=12)"
   ]
  },
  {
   "cell_type": "code",
   "execution_count": 8,
   "id": "10eee179",
   "metadata": {
    "ExecuteTime": {
     "end_time": "2021-12-04T07:56:18.576345Z",
     "start_time": "2021-12-04T07:56:18.361504Z"
    }
   },
   "outputs": [
    {
     "name": "stderr",
     "output_type": "stream",
     "text": [
      "C:\\Users\\KEERTHI KUMAR\\anaconda3\\lib\\site-packages\\sklearn\\feature_selection\\_from_model.py:234: DataConversionWarning: A column-vector y was passed when a 1d array was expected. Please change the shape of y to (n_samples,), for example using ravel().\n",
      "  self.estimator_.fit(X, y, **fit_params)\n"
     ]
    },
    {
     "data": {
      "text/plain": [
       "SelectFromModel(estimator=RandomForestClassifier(max_depth=10, random_state=12))"
      ]
     },
     "execution_count": 8,
     "metadata": {},
     "output_type": "execute_result"
    }
   ],
   "source": [
    "select_from_model=SelectFromModel(estimator=rf,max_features =None)\n",
    "select_from_model.fit(X_train,y_train)"
   ]
  },
  {
   "cell_type": "code",
   "execution_count": 9,
   "id": "0687dc9e",
   "metadata": {
    "ExecuteTime": {
     "end_time": "2021-12-04T07:56:18.996668Z",
     "start_time": "2021-12-04T07:56:18.953898Z"
    }
   },
   "outputs": [
    {
     "data": {
      "text/plain": [
       "array([False, False, False,  True, False, False, False,  True, False,\n",
       "       False, False, False, False,  True, False, False, False, False,\n",
       "       False, False,  True, False,  True,  True, False, False, False,\n",
       "        True, False, False])"
      ]
     },
     "execution_count": 9,
     "metadata": {},
     "output_type": "execute_result"
    }
   ],
   "source": [
    "select_from_model.get_support() "
   ]
  },
  {
   "cell_type": "code",
   "execution_count": 10,
   "id": "3a602b66",
   "metadata": {
    "ExecuteTime": {
     "end_time": "2021-12-04T07:56:19.508852Z",
     "start_time": "2021-12-04T07:56:19.466230Z"
    }
   },
   "outputs": [
    {
     "data": {
      "text/plain": [
       "Index(['mean area', 'mean concave points', 'area error', 'worst radius',\n",
       "       'worst perimeter', 'worst area', 'worst concave points'],\n",
       "      dtype='object')"
      ]
     },
     "execution_count": 10,
     "metadata": {},
     "output_type": "execute_result"
    }
   ],
   "source": [
    "X_train.columns[select_from_model.get_support()]"
   ]
  },
  {
   "cell_type": "code",
   "execution_count": 11,
   "id": "e265509d",
   "metadata": {
    "ExecuteTime": {
     "end_time": "2021-12-04T07:56:19.805446Z",
     "start_time": "2021-12-04T07:56:19.770189Z"
    }
   },
   "outputs": [
    {
     "data": {
      "text/plain": [
       "7"
      ]
     },
     "execution_count": 11,
     "metadata": {},
     "output_type": "execute_result"
    }
   ],
   "source": [
    "len(X_train.columns[select_from_model.get_support()])"
   ]
  },
  {
   "cell_type": "code",
   "execution_count": 12,
   "id": "1a365df7",
   "metadata": {
    "ExecuteTime": {
     "end_time": "2021-12-04T07:56:20.324699Z",
     "start_time": "2021-12-04T07:56:20.121462Z"
    }
   },
   "outputs": [
    {
     "name": "stderr",
     "output_type": "stream",
     "text": [
      "<ipython-input-12-d6d9475b85dc>:1: DataConversionWarning: A column-vector y was passed when a 1d array was expected. Please change the shape of y to (n_samples,), for example using ravel().\n",
      "  rf.fit(X_train,y_train)\n"
     ]
    },
    {
     "data": {
      "text/plain": [
       "RandomForestClassifier(max_depth=10, random_state=12)"
      ]
     },
     "execution_count": 12,
     "metadata": {},
     "output_type": "execute_result"
    }
   ],
   "source": [
    "rf.fit(X_train,y_train)"
   ]
  },
  {
   "cell_type": "code",
   "execution_count": 13,
   "id": "ece7e8de",
   "metadata": {
    "ExecuteTime": {
     "end_time": "2021-12-04T07:56:32.598004Z",
     "start_time": "2021-12-04T07:56:32.569973Z"
    }
   },
   "outputs": [],
   "source": [
    "y_pred_test = rf.predict(X_test)"
   ]
  },
  {
   "cell_type": "code",
   "execution_count": 14,
   "id": "493a459d",
   "metadata": {
    "ExecuteTime": {
     "end_time": "2021-12-04T07:56:33.046376Z",
     "start_time": "2021-12-04T07:56:33.032413Z"
    }
   },
   "outputs": [],
   "source": [
    "from sklearn.metrics import accuracy_score"
   ]
  },
  {
   "cell_type": "code",
   "execution_count": 15,
   "id": "9225a4cf",
   "metadata": {
    "ExecuteTime": {
     "end_time": "2021-12-04T07:56:33.626913Z",
     "start_time": "2021-12-04T07:56:33.608933Z"
    }
   },
   "outputs": [
    {
     "data": {
      "text/plain": [
       "0.956140350877193"
      ]
     },
     "execution_count": 15,
     "metadata": {},
     "output_type": "execute_result"
    }
   ],
   "source": [
    "accuracy_score(y_test,y_pred_test)"
   ]
  },
  {
   "cell_type": "markdown",
   "id": "6e835a6d",
   "metadata": {},
   "source": [
    "# by selectFromModel"
   ]
  },
  {
   "cell_type": "code",
   "execution_count": 16,
   "id": "70568e18",
   "metadata": {
    "ExecuteTime": {
     "end_time": "2021-12-04T07:56:34.506499Z",
     "start_time": "2021-12-04T07:56:34.457627Z"
    }
   },
   "outputs": [],
   "source": [
    "imp_ft_train = select_from_model.transform(X_train)\n",
    "imp_ft_test=select_from_model.transform(X_test)"
   ]
  },
  {
   "cell_type": "code",
   "execution_count": 17,
   "id": "264754fa",
   "metadata": {
    "ExecuteTime": {
     "end_time": "2021-12-04T07:56:35.197317Z",
     "start_time": "2021-12-04T07:56:35.049480Z"
    }
   },
   "outputs": [
    {
     "name": "stderr",
     "output_type": "stream",
     "text": [
      "<ipython-input-17-9bfcb16ede8b>:1: DataConversionWarning: A column-vector y was passed when a 1d array was expected. Please change the shape of y to (n_samples,), for example using ravel().\n",
      "  rf.fit(imp_ft_train,y_train)\n"
     ]
    },
    {
     "data": {
      "text/plain": [
       "RandomForestClassifier(max_depth=10, random_state=12)"
      ]
     },
     "execution_count": 17,
     "metadata": {},
     "output_type": "execute_result"
    }
   ],
   "source": [
    "rf.fit(imp_ft_train,y_train)"
   ]
  },
  {
   "cell_type": "code",
   "execution_count": 18,
   "id": "1034199a",
   "metadata": {
    "ExecuteTime": {
     "end_time": "2021-12-04T07:56:35.914097Z",
     "start_time": "2021-12-04T07:56:35.897174Z"
    }
   },
   "outputs": [],
   "source": [
    "y_pred_test2=rf.predict(imp_ft_test)"
   ]
  },
  {
   "cell_type": "code",
   "execution_count": 19,
   "id": "e78b3f03",
   "metadata": {
    "ExecuteTime": {
     "end_time": "2021-12-04T07:56:36.537103Z",
     "start_time": "2021-12-04T07:56:36.521113Z"
    }
   },
   "outputs": [
    {
     "data": {
      "text/plain": [
       "0.9473684210526315"
      ]
     },
     "execution_count": 19,
     "metadata": {},
     "output_type": "execute_result"
    }
   ],
   "source": [
    "accuracy_score(y_test,y_pred_test2)"
   ]
  },
  {
   "cell_type": "markdown",
   "id": "28d6ea14",
   "metadata": {},
   "source": [
    "## Looping"
   ]
  },
  {
   "cell_type": "code",
   "execution_count": 22,
   "id": "fa37bdc9",
   "metadata": {
    "ExecuteTime": {
     "end_time": "2021-12-04T08:03:37.669398Z",
     "start_time": "2021-12-04T08:03:37.657431Z"
    }
   },
   "outputs": [],
   "source": [
    "from sklearn.metrics import precision_score,recall_score,confusion_matrix"
   ]
  },
  {
   "cell_type": "code",
   "execution_count": 28,
   "id": "84f2e21d",
   "metadata": {
    "ExecuteTime": {
     "end_time": "2021-12-04T08:05:19.515210Z",
     "start_time": "2021-12-04T08:05:19.497292Z"
    }
   },
   "outputs": [],
   "source": [
    "def rf_classifier(X_train,X_test,y_train,y_test):\n",
    "    rf = RandomForestClassifier()\n",
    "    rf.fit(X_train,y_train)\n",
    "    y_pred = rf.predict(X_test)\n",
    "    print('accuracy score:', round(accuracy_score(y_test,y_pred),4))\n",
    "    print('precision score:', round(precision_score(y_test,y_pred),4))\n",
    "    print('recall  score:', round(recall_score(y_test,y_pred),4))\n",
    "    print('confussion matrix:\\n',confusion_matrix(y_test,y_pred))"
   ]
  },
  {
   "cell_type": "code",
   "execution_count": 34,
   "id": "82bba609",
   "metadata": {
    "ExecuteTime": {
     "end_time": "2021-12-04T08:08:41.960951Z",
     "start_time": "2021-12-04T08:08:41.752656Z"
    }
   },
   "outputs": [
    {
     "name": "stdout",
     "output_type": "stream",
     "text": [
      "accuracy score: 0.9737\n",
      "precision score: 0.9726\n",
      "recall  score: 0.9861\n",
      "confussion matrix:\n",
      " [[40  2]\n",
      " [ 1 71]]\n",
      "Wall time: 202 ms\n"
     ]
    }
   ],
   "source": [
    "%%time\n",
    "rf_classifier(X_train,X_test,y_train,y_test)"
   ]
  },
  {
   "cell_type": "code",
   "execution_count": 32,
   "id": "dc0d3fbc",
   "metadata": {
    "ExecuteTime": {
     "end_time": "2021-12-04T08:07:03.332263Z",
     "start_time": "2021-12-04T08:07:03.145642Z"
    }
   },
   "outputs": [
    {
     "name": "stdout",
     "output_type": "stream",
     "text": [
      "accuracy score: 0.9474\n",
      "precision score: 0.9583\n",
      "recall  score: 0.9583\n",
      "confussion matrix:\n",
      " [[39  3]\n",
      " [ 3 69]]\n"
     ]
    }
   ],
   "source": [
    "rf_classifier(imp_ft_train,imp_ft_test,y_train,y_test)"
   ]
  },
  {
   "cell_type": "markdown",
   "id": "9e5a5c76",
   "metadata": {},
   "source": [
    "### By rfe"
   ]
  },
  {
   "cell_type": "code",
   "execution_count": 165,
   "id": "403d8f44",
   "metadata": {
    "ExecuteTime": {
     "end_time": "2021-12-04T08:54:38.910149Z",
     "start_time": "2021-12-04T08:54:38.903161Z"
    }
   },
   "outputs": [
    {
     "ename": "SyntaxError",
     "evalue": "positional argument follows keyword argument (<ipython-input-165-1f92fb61dbba>, line 1)",
     "output_type": "error",
     "traceback": [
      "\u001b[1;36m  File \u001b[1;32m\"<ipython-input-165-1f92fb61dbba>\"\u001b[1;36m, line \u001b[1;32m1\u001b[0m\n\u001b[1;33m    rfe = RFE(estimator=rf,n_features_to_select=12,random.seed(1))\u001b[0m\n\u001b[1;37m                                                   ^\u001b[0m\n\u001b[1;31mSyntaxError\u001b[0m\u001b[1;31m:\u001b[0m positional argument follows keyword argument\n"
     ]
    }
   ],
   "source": [
    "rfe = RFE(estimator=rf,n_features_to_select=12)\n",
    "rfe.fit(X_train,y_train)"
   ]
  },
  {
   "cell_type": "code",
   "execution_count": 44,
   "id": "65471bda",
   "metadata": {
    "ExecuteTime": {
     "end_time": "2021-12-04T08:15:47.998216Z",
     "start_time": "2021-12-04T08:15:47.986214Z"
    }
   },
   "outputs": [
    {
     "data": {
      "text/plain": [
       "array([ True, False,  True,  True, False, False,  True,  True, False,\n",
       "       False, False, False, False,  True, False, False, False, False,\n",
       "       False, False,  True,  True,  True,  True, False, False,  True,\n",
       "        True, False, False])"
      ]
     },
     "execution_count": 44,
     "metadata": {},
     "output_type": "execute_result"
    }
   ],
   "source": [
    "rfe.get_support()"
   ]
  },
  {
   "cell_type": "code",
   "execution_count": 45,
   "id": "6c6f1c83",
   "metadata": {
    "ExecuteTime": {
     "end_time": "2021-12-04T08:15:48.108510Z",
     "start_time": "2021-12-04T08:15:48.095036Z"
    }
   },
   "outputs": [
    {
     "data": {
      "text/plain": [
       "Index(['mean radius', 'mean perimeter', 'mean area', 'mean concavity',\n",
       "       'mean concave points', 'area error', 'worst radius', 'worst texture',\n",
       "       'worst perimeter', 'worst area', 'worst concavity',\n",
       "       'worst concave points'],\n",
       "      dtype='object')"
      ]
     },
     "execution_count": 45,
     "metadata": {},
     "output_type": "execute_result"
    }
   ],
   "source": [
    "X_train.columns[rfe.get_support()]"
   ]
  },
  {
   "cell_type": "code",
   "execution_count": 46,
   "id": "b68fd54a",
   "metadata": {
    "ExecuteTime": {
     "end_time": "2021-12-04T08:15:49.502655Z",
     "start_time": "2021-12-04T08:15:49.497668Z"
    }
   },
   "outputs": [
    {
     "data": {
      "text/plain": [
       "12"
      ]
     },
     "execution_count": 46,
     "metadata": {},
     "output_type": "execute_result"
    }
   ],
   "source": [
    "len(X_train.columns[rfe.get_support()])"
   ]
  },
  {
   "cell_type": "code",
   "execution_count": 163,
   "id": "738fd5b5",
   "metadata": {
    "ExecuteTime": {
     "end_time": "2021-12-04T08:53:48.978481Z",
     "start_time": "2021-12-04T08:53:48.951552Z"
    }
   },
   "outputs": [
    {
     "ename": "ValueError",
     "evalue": "X has a different shape than during fitting.",
     "output_type": "error",
     "traceback": [
      "\u001b[1;31m---------------------------------------------------------------------------\u001b[0m",
      "\u001b[1;31mValueError\u001b[0m                                Traceback (most recent call last)",
      "\u001b[1;32m<ipython-input-163-874f7b38344e>\u001b[0m in \u001b[0;36m<module>\u001b[1;34m\u001b[0m\n\u001b[0;32m      1\u001b[0m \u001b[0mX_train_trans_rfe\u001b[0m \u001b[1;33m=\u001b[0m\u001b[0mrfe\u001b[0m\u001b[1;33m.\u001b[0m\u001b[0mtransform\u001b[0m\u001b[1;33m(\u001b[0m\u001b[0mX_train\u001b[0m\u001b[1;33m)\u001b[0m\u001b[1;33m\u001b[0m\u001b[1;33m\u001b[0m\u001b[0m\n\u001b[0;32m      2\u001b[0m \u001b[0mX_test_trans_rfe\u001b[0m \u001b[1;33m=\u001b[0m \u001b[0mrfe\u001b[0m\u001b[1;33m.\u001b[0m\u001b[0mtransform\u001b[0m\u001b[1;33m(\u001b[0m\u001b[0mX_test\u001b[0m\u001b[1;33m)\u001b[0m\u001b[1;33m\u001b[0m\u001b[1;33m\u001b[0m\u001b[0m\n\u001b[1;32m----> 3\u001b[1;33m \u001b[0my_train_trans_rfe\u001b[0m \u001b[1;33m=\u001b[0m \u001b[0mrfe\u001b[0m\u001b[1;33m.\u001b[0m\u001b[0mtransform\u001b[0m\u001b[1;33m(\u001b[0m\u001b[0my_train\u001b[0m\u001b[1;33m)\u001b[0m\u001b[1;33m\u001b[0m\u001b[1;33m\u001b[0m\u001b[0m\n\u001b[0m\u001b[0;32m      4\u001b[0m \u001b[0my_test_trans_rfe\u001b[0m \u001b[1;33m=\u001b[0m \u001b[0mrfe\u001b[0m\u001b[1;33m.\u001b[0m\u001b[0mtransform\u001b[0m\u001b[1;33m(\u001b[0m\u001b[0my_test\u001b[0m\u001b[1;33m)\u001b[0m\u001b[1;33m\u001b[0m\u001b[1;33m\u001b[0m\u001b[0m\n",
      "\u001b[1;32m~\\anaconda3\\lib\\site-packages\\sklearn\\feature_selection\\_base.py\u001b[0m in \u001b[0;36mtransform\u001b[1;34m(self, X)\u001b[0m\n\u001b[0;32m     93\u001b[0m             \u001b[1;32mreturn\u001b[0m \u001b[0mnp\u001b[0m\u001b[1;33m.\u001b[0m\u001b[0mempty\u001b[0m\u001b[1;33m(\u001b[0m\u001b[1;36m0\u001b[0m\u001b[1;33m)\u001b[0m\u001b[1;33m.\u001b[0m\u001b[0mreshape\u001b[0m\u001b[1;33m(\u001b[0m\u001b[1;33m(\u001b[0m\u001b[0mX\u001b[0m\u001b[1;33m.\u001b[0m\u001b[0mshape\u001b[0m\u001b[1;33m[\u001b[0m\u001b[1;36m0\u001b[0m\u001b[1;33m]\u001b[0m\u001b[1;33m,\u001b[0m \u001b[1;36m0\u001b[0m\u001b[1;33m)\u001b[0m\u001b[1;33m)\u001b[0m\u001b[1;33m\u001b[0m\u001b[1;33m\u001b[0m\u001b[0m\n\u001b[0;32m     94\u001b[0m         \u001b[1;32mif\u001b[0m \u001b[0mlen\u001b[0m\u001b[1;33m(\u001b[0m\u001b[0mmask\u001b[0m\u001b[1;33m)\u001b[0m \u001b[1;33m!=\u001b[0m \u001b[0mX\u001b[0m\u001b[1;33m.\u001b[0m\u001b[0mshape\u001b[0m\u001b[1;33m[\u001b[0m\u001b[1;36m1\u001b[0m\u001b[1;33m]\u001b[0m\u001b[1;33m:\u001b[0m\u001b[1;33m\u001b[0m\u001b[1;33m\u001b[0m\u001b[0m\n\u001b[1;32m---> 95\u001b[1;33m             \u001b[1;32mraise\u001b[0m \u001b[0mValueError\u001b[0m\u001b[1;33m(\u001b[0m\u001b[1;34m\"X has a different shape than during fitting.\"\u001b[0m\u001b[1;33m)\u001b[0m\u001b[1;33m\u001b[0m\u001b[1;33m\u001b[0m\u001b[0m\n\u001b[0m\u001b[0;32m     96\u001b[0m         \u001b[1;32mreturn\u001b[0m \u001b[0mX\u001b[0m\u001b[1;33m[\u001b[0m\u001b[1;33m:\u001b[0m\u001b[1;33m,\u001b[0m \u001b[0msafe_mask\u001b[0m\u001b[1;33m(\u001b[0m\u001b[0mX\u001b[0m\u001b[1;33m,\u001b[0m \u001b[0mmask\u001b[0m\u001b[1;33m)\u001b[0m\u001b[1;33m]\u001b[0m\u001b[1;33m\u001b[0m\u001b[1;33m\u001b[0m\u001b[0m\n\u001b[0;32m     97\u001b[0m \u001b[1;33m\u001b[0m\u001b[0m\n",
      "\u001b[1;31mValueError\u001b[0m: X has a different shape than during fitting."
     ]
    }
   ],
   "source": [
    "X_train_trans_rfe =rfe.transform(X_train)\n",
    "X_test_trans_rfe = rfe.transform(X_test)"
   ]
  },
  {
   "cell_type": "code",
   "execution_count": 50,
   "id": "41fbbe06",
   "metadata": {
    "ExecuteTime": {
     "end_time": "2021-12-04T08:18:00.098581Z",
     "start_time": "2021-12-04T08:17:59.913412Z"
    }
   },
   "outputs": [
    {
     "name": "stdout",
     "output_type": "stream",
     "text": [
      "accuracy score: 0.9561\n",
      "precision score: 0.9718\n",
      "recall  score: 0.9583\n",
      "confussion matrix:\n",
      " [[40  2]\n",
      " [ 3 69]]\n"
     ]
    }
   ],
   "source": [
    "rf_classifier(X_train_trans_rfe,X_test_trans_rfe,y_train,y_test)"
   ]
  },
  {
   "cell_type": "markdown",
   "id": "d4b51ead",
   "metadata": {},
   "source": [
    "### Pick up the imp features from gradient boosting to build rf classifier"
   ]
  },
  {
   "cell_type": "code",
   "execution_count": 52,
   "id": "796b4ac4",
   "metadata": {
    "ExecuteTime": {
     "end_time": "2021-12-04T08:23:14.512523Z",
     "start_time": "2021-12-04T08:23:09.353128Z"
    }
   },
   "outputs": [
    {
     "data": {
      "text/plain": [
       "RFE(estimator=GradientBoostingClassifier(random_state=12),\n",
       "    n_features_to_select=12)"
      ]
     },
     "execution_count": 52,
     "metadata": {},
     "output_type": "execute_result"
    }
   ],
   "source": [
    "rfe = RFE(estimator= GradientBoostingClassifier(random_state=12),n_features_to_select=12)\n",
    "rfe.fit(X_train,y_train)"
   ]
  },
  {
   "cell_type": "code",
   "execution_count": 53,
   "id": "f14a21d9",
   "metadata": {
    "ExecuteTime": {
     "end_time": "2021-12-04T08:24:27.458807Z",
     "start_time": "2021-12-04T08:24:27.448833Z"
    }
   },
   "outputs": [
    {
     "data": {
      "text/plain": [
       "array([False,  True, False,  True, False, False,  True,  True, False,\n",
       "       False, False, False, False,  True, False, False,  True, False,\n",
       "       False,  True, False,  True, False,  True, False, False,  True,\n",
       "        True,  True, False])"
      ]
     },
     "execution_count": 53,
     "metadata": {},
     "output_type": "execute_result"
    }
   ],
   "source": [
    "rfe.get_support()"
   ]
  },
  {
   "cell_type": "code",
   "execution_count": 55,
   "id": "895aa2b8",
   "metadata": {
    "ExecuteTime": {
     "end_time": "2021-12-04T08:24:55.254699Z",
     "start_time": "2021-12-04T08:24:55.241701Z"
    }
   },
   "outputs": [
    {
     "data": {
      "text/plain": [
       "Index(['mean texture', 'mean area', 'mean concavity', 'mean concave points',\n",
       "       'area error', 'concavity error', 'fractal dimension error',\n",
       "       'worst texture', 'worst area', 'worst concavity',\n",
       "       'worst concave points', 'worst symmetry'],\n",
       "      dtype='object')"
      ]
     },
     "execution_count": 55,
     "metadata": {},
     "output_type": "execute_result"
    }
   ],
   "source": [
    "X_train.columns[rfe.get_support()]"
   ]
  },
  {
   "cell_type": "code",
   "execution_count": 56,
   "id": "ef90b59e",
   "metadata": {
    "ExecuteTime": {
     "end_time": "2021-12-04T08:25:10.921736Z",
     "start_time": "2021-12-04T08:25:10.905743Z"
    }
   },
   "outputs": [
    {
     "data": {
      "text/plain": [
       "12"
      ]
     },
     "execution_count": 56,
     "metadata": {},
     "output_type": "execute_result"
    }
   ],
   "source": [
    "len(X_train.columns[rfe.get_support()])"
   ]
  },
  {
   "cell_type": "code",
   "execution_count": 57,
   "id": "4dd6464b",
   "metadata": {
    "ExecuteTime": {
     "end_time": "2021-12-04T08:26:58.442971Z",
     "start_time": "2021-12-04T08:26:58.426024Z"
    }
   },
   "outputs": [],
   "source": []
  },
  {
   "cell_type": "code",
   "execution_count": 162,
   "id": "78669d32",
   "metadata": {
    "ExecuteTime": {
     "end_time": "2021-12-04T08:52:39.764153Z",
     "start_time": "2021-12-04T08:52:39.576318Z"
    }
   },
   "outputs": [
    {
     "name": "stdout",
     "output_type": "stream",
     "text": [
      "accuracy score: 0.9386\n",
      "precision score: 0.971\n",
      "recall  score: 0.9306\n",
      "confussion matrix:\n",
      " [[40  2]\n",
      " [ 5 67]]\n"
     ]
    }
   ],
   "source": [
    "rf_classifier(X_train_trans_rfe,X_test_trans_rfe,y_train,y_test)"
   ]
  },
  {
   "cell_type": "markdown",
   "id": "f051e504",
   "metadata": {},
   "source": [
    "## To Design optimal no. of features to get better accuracy"
   ]
  },
  {
   "cell_type": "code",
   "execution_count": 61,
   "id": "6d23edeb",
   "metadata": {
    "ExecuteTime": {
     "end_time": "2021-12-04T08:40:51.732934Z",
     "start_time": "2021-12-04T08:38:44.248682Z"
    }
   },
   "outputs": [
    {
     "name": "stdout",
     "output_type": "stream",
     "text": [
      "selected features: 1\n",
      "accuracy score: 0.8158\n",
      "precision score: 0.8696\n",
      "recall  score: 0.8333\n",
      "confussion matrix:\n",
      " [[33  9]\n",
      " [12 60]]\n",
      "=======================================================\n",
      "selected features: 2\n",
      "accuracy score: 0.9123\n",
      "precision score: 0.9306\n",
      "recall  score: 0.9306\n",
      "confussion matrix:\n",
      " [[37  5]\n",
      " [ 5 67]]\n",
      "=======================================================\n",
      "selected features: 3\n",
      "accuracy score: 0.9211\n",
      "precision score: 0.9315\n",
      "recall  score: 0.9444\n",
      "confussion matrix:\n",
      " [[37  5]\n",
      " [ 4 68]]\n",
      "=======================================================\n",
      "selected features: 4\n",
      "accuracy score: 0.9561\n",
      "precision score: 0.9589\n",
      "recall  score: 0.9722\n",
      "confussion matrix:\n",
      " [[39  3]\n",
      " [ 2 70]]\n",
      "=======================================================\n",
      "selected features: 5\n",
      "accuracy score: 0.9474\n",
      "precision score: 0.9714\n",
      "recall  score: 0.9444\n",
      "confussion matrix:\n",
      " [[40  2]\n",
      " [ 4 68]]\n",
      "=======================================================\n",
      "selected features: 6\n",
      "accuracy score: 0.9386\n",
      "precision score: 0.9577\n",
      "recall  score: 0.9444\n",
      "confussion matrix:\n",
      " [[39  3]\n",
      " [ 4 68]]\n",
      "=======================================================\n",
      "selected features: 7\n",
      "accuracy score: 0.9561\n",
      "precision score: 0.9718\n",
      "recall  score: 0.9583\n",
      "confussion matrix:\n",
      " [[40  2]\n",
      " [ 3 69]]\n",
      "=======================================================\n",
      "selected features: 8\n",
      "accuracy score: 0.9737\n",
      "precision score: 0.9726\n",
      "recall  score: 0.9861\n",
      "confussion matrix:\n",
      " [[40  2]\n",
      " [ 1 71]]\n",
      "=======================================================\n",
      "selected features: 9\n",
      "accuracy score: 0.9298\n",
      "precision score: 0.9571\n",
      "recall  score: 0.9306\n",
      "confussion matrix:\n",
      " [[39  3]\n",
      " [ 5 67]]\n",
      "=======================================================\n",
      "selected features: 10\n",
      "accuracy score: 0.9474\n",
      "precision score: 0.9714\n",
      "recall  score: 0.9444\n",
      "confussion matrix:\n",
      " [[40  2]\n",
      " [ 4 68]]\n",
      "=======================================================\n",
      "selected features: 11\n",
      "accuracy score: 0.9737\n",
      "precision score: 0.9726\n",
      "recall  score: 0.9861\n",
      "confussion matrix:\n",
      " [[40  2]\n",
      " [ 1 71]]\n",
      "=======================================================\n",
      "selected features: 12\n",
      "accuracy score: 0.9561\n",
      "precision score: 0.9718\n",
      "recall  score: 0.9583\n",
      "confussion matrix:\n",
      " [[40  2]\n",
      " [ 3 69]]\n",
      "=======================================================\n",
      "selected features: 13\n",
      "accuracy score: 0.9561\n",
      "precision score: 0.9718\n",
      "recall  score: 0.9583\n",
      "confussion matrix:\n",
      " [[40  2]\n",
      " [ 3 69]]\n",
      "=======================================================\n",
      "selected features: 14\n",
      "accuracy score: 0.9386\n",
      "precision score: 0.971\n",
      "recall  score: 0.9306\n",
      "confussion matrix:\n",
      " [[40  2]\n",
      " [ 5 67]]\n",
      "=======================================================\n",
      "selected features: 15\n",
      "accuracy score: 0.9649\n",
      "precision score: 0.9722\n",
      "recall  score: 0.9722\n",
      "confussion matrix:\n",
      " [[40  2]\n",
      " [ 2 70]]\n",
      "=======================================================\n",
      "selected features: 16\n",
      "accuracy score: 0.9561\n",
      "precision score: 0.9718\n",
      "recall  score: 0.9583\n",
      "confussion matrix:\n",
      " [[40  2]\n",
      " [ 3 69]]\n",
      "=======================================================\n",
      "selected features: 17\n",
      "accuracy score: 0.9561\n",
      "precision score: 0.9718\n",
      "recall  score: 0.9583\n",
      "confussion matrix:\n",
      " [[40  2]\n",
      " [ 3 69]]\n",
      "=======================================================\n",
      "selected features: 18\n",
      "accuracy score: 0.9561\n",
      "precision score: 0.9718\n",
      "recall  score: 0.9583\n",
      "confussion matrix:\n",
      " [[40  2]\n",
      " [ 3 69]]\n",
      "=======================================================\n",
      "selected features: 19\n",
      "accuracy score: 0.9649\n",
      "precision score: 0.9722\n",
      "recall  score: 0.9722\n",
      "confussion matrix:\n",
      " [[40  2]\n",
      " [ 2 70]]\n",
      "=======================================================\n",
      "selected features: 20\n",
      "accuracy score: 0.9649\n",
      "precision score: 0.9722\n",
      "recall  score: 0.9722\n",
      "confussion matrix:\n",
      " [[40  2]\n",
      " [ 2 70]]\n",
      "=======================================================\n",
      "selected features: 21\n",
      "accuracy score: 0.9737\n",
      "precision score: 0.9726\n",
      "recall  score: 0.9861\n",
      "confussion matrix:\n",
      " [[40  2]\n",
      " [ 1 71]]\n",
      "=======================================================\n",
      "selected features: 22\n",
      "accuracy score: 0.9561\n",
      "precision score: 0.9718\n",
      "recall  score: 0.9583\n",
      "confussion matrix:\n",
      " [[40  2]\n",
      " [ 3 69]]\n",
      "=======================================================\n",
      "selected features: 23\n",
      "accuracy score: 0.9649\n",
      "precision score: 0.9722\n",
      "recall  score: 0.9722\n",
      "confussion matrix:\n",
      " [[40  2]\n",
      " [ 2 70]]\n",
      "=======================================================\n",
      "selected features: 24\n",
      "accuracy score: 0.9737\n",
      "precision score: 0.9726\n",
      "recall  score: 0.9861\n",
      "confussion matrix:\n",
      " [[40  2]\n",
      " [ 1 71]]\n",
      "=======================================================\n",
      "selected features: 25\n",
      "accuracy score: 0.9561\n",
      "precision score: 0.9718\n",
      "recall  score: 0.9583\n",
      "confussion matrix:\n",
      " [[40  2]\n",
      " [ 3 69]]\n",
      "=======================================================\n",
      "selected features: 26\n",
      "accuracy score: 0.9474\n",
      "precision score: 0.9583\n",
      "recall  score: 0.9583\n",
      "confussion matrix:\n",
      " [[39  3]\n",
      " [ 3 69]]\n",
      "=======================================================\n",
      "selected features: 27\n",
      "accuracy score: 0.9649\n",
      "precision score: 0.9722\n",
      "recall  score: 0.9722\n",
      "confussion matrix:\n",
      " [[40  2]\n",
      " [ 2 70]]\n",
      "=======================================================\n",
      "selected features: 28\n",
      "accuracy score: 0.9561\n",
      "precision score: 0.9718\n",
      "recall  score: 0.9583\n",
      "confussion matrix:\n",
      " [[40  2]\n",
      " [ 3 69]]\n",
      "=======================================================\n",
      "selected features: 29\n",
      "accuracy score: 0.9561\n",
      "precision score: 0.9718\n",
      "recall  score: 0.9583\n",
      "confussion matrix:\n",
      " [[40  2]\n",
      " [ 3 69]]\n",
      "=======================================================\n",
      "selected features: 30\n",
      "accuracy score: 0.9561\n",
      "precision score: 0.9718\n",
      "recall  score: 0.9583\n",
      "confussion matrix:\n",
      " [[40  2]\n",
      " [ 3 69]]\n",
      "=======================================================\n"
     ]
    }
   ],
   "source": [
    "for i in range(1,31):\n",
    "    rfe = RFE(estimator= GradientBoostingClassifier(random_state=12),n_features_to_select=i)\n",
    "    rfe.fit(X_train,y_train)\n",
    "    X_train_trans_rfe =rfe.transform(X_train)\n",
    "    X_test_trans_rfe = rfe.transform(X_test)\n",
    "    print('selected features:',i)\n",
    "    rf_classifier(X_train_trans_rfe,X_test_trans_rfe,y_train,y_test)\n",
    "    print('=======================================================') "
   ]
  },
  {
   "cell_type": "code",
   "execution_count": 77,
   "id": "b545f3c7",
   "metadata": {
    "ExecuteTime": {
     "end_time": "2021-12-04T08:46:02.683547Z",
     "start_time": "2021-12-04T08:45:57.369466Z"
    }
   },
   "outputs": [
    {
     "data": {
      "text/plain": [
       "RFE(estimator=GradientBoostingClassifier(random_state=12),\n",
       "    n_features_to_select=8)"
      ]
     },
     "execution_count": 77,
     "metadata": {},
     "output_type": "execute_result"
    }
   ],
   "source": [
    "rfe = RFE(estimator= GradientBoostingClassifier(random_state=te=12,),n_features_to_select=8)\n",
    "rfe.fit(X_train,y_train)"
   ]
  },
  {
   "cell_type": "code",
   "execution_count": 78,
   "id": "b9399e2f",
   "metadata": {
    "ExecuteTime": {
     "end_time": "2021-12-04T08:46:07.531716Z",
     "start_time": "2021-12-04T08:46:07.511769Z"
    }
   },
   "outputs": [
    {
     "data": {
      "text/plain": [
       "Index(['mean texture', 'mean concavity', 'mean concave points', 'area error',\n",
       "       'worst texture', 'worst area', 'worst concavity',\n",
       "       'worst concave points'],\n",
       "      dtype='object')"
      ]
     },
     "execution_count": 78,
     "metadata": {},
     "output_type": "execute_result"
    }
   ],
   "source": [
    "X_train.columns[rfe.get_support()]"
   ]
  },
  {
   "cell_type": "code",
   "execution_count": 142,
   "id": "aa23fb12",
   "metadata": {
    "ExecuteTime": {
     "end_time": "2021-12-04T08:50:50.668561Z",
     "start_time": "2021-12-04T08:50:50.487174Z"
    }
   },
   "outputs": [
    {
     "name": "stdout",
     "output_type": "stream",
     "text": [
      "accuracy score: 0.9474\n",
      "precision score: 0.9583\n",
      "recall  score: 0.9583\n",
      "confussion matrix:\n",
      " [[39  3]\n",
      " [ 3 69]]\n",
      "=======================================================\n"
     ]
    }
   ],
   "source": [
    "X_train_trans_rfe =rfe.transform(X_train)\n",
    "X_test_trans_rfe = rfe.transform(X_test)\n",
    "rf_classifier(X_train_trans_rfe,X_test_trans_rfe,y_train,y_test)\n",
    "print('=======================================================') "
   ]
  }
 ],
 "metadata": {
  "kernelspec": {
   "display_name": "Python 3",
   "language": "python",
   "name": "python3"
  },
  "language_info": {
   "codemirror_mode": {
    "name": "ipython",
    "version": 3
   },
   "file_extension": ".py",
   "mimetype": "text/x-python",
   "name": "python",
   "nbconvert_exporter": "python",
   "pygments_lexer": "ipython3",
   "version": "3.8.8"
  },
  "varInspector": {
   "cols": {
    "lenName": 16,
    "lenType": 16,
    "lenVar": 40
   },
   "kernels_config": {
    "python": {
     "delete_cmd_postfix": "",
     "delete_cmd_prefix": "del ",
     "library": "var_list.py",
     "varRefreshCmd": "print(var_dic_list())"
    },
    "r": {
     "delete_cmd_postfix": ") ",
     "delete_cmd_prefix": "rm(",
     "library": "var_list.r",
     "varRefreshCmd": "cat(var_dic_list()) "
    }
   },
   "types_to_exclude": [
    "module",
    "function",
    "builtin_function_or_method",
    "instance",
    "_Feature"
   ],
   "window_display": false
  }
 },
 "nbformat": 4,
 "nbformat_minor": 5
}
