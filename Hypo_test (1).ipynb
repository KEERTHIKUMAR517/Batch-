{
 "cells": [
  {
   "cell_type": "code",
   "execution_count": 1,
   "metadata": {
    "ExecuteTime": {
     "end_time": "2021-11-12T07:47:47.440750Z",
     "start_time": "2021-11-12T07:47:44.916154Z"
    }
   },
   "outputs": [
    {
     "ename": "ModuleNotFoundError",
     "evalue": "No module named 'plotly'",
     "output_type": "error",
     "traceback": [
      "\u001b[1;31m---------------------------------------------------------------------------\u001b[0m",
      "\u001b[1;31mModuleNotFoundError\u001b[0m                       Traceback (most recent call last)",
      "\u001b[1;32m<ipython-input-1-70479780343f>\u001b[0m in \u001b[0;36m<module>\u001b[1;34m\u001b[0m\n\u001b[0;32m      8\u001b[0m \u001b[1;31m# import plotly.graph_objs as go\u001b[0m\u001b[1;33m\u001b[0m\u001b[1;33m\u001b[0m\u001b[1;33m\u001b[0m\u001b[0m\n\u001b[0;32m      9\u001b[0m \u001b[1;31m# from plotly.tools import FigureFactory as FF\u001b[0m\u001b[1;33m\u001b[0m\u001b[1;33m\u001b[0m\u001b[1;33m\u001b[0m\u001b[0m\n\u001b[1;32m---> 10\u001b[1;33m \u001b[1;32mfrom\u001b[0m \u001b[0mplotly\u001b[0m \u001b[1;32mimport\u001b[0m \u001b[0mfigure_factory\u001b[0m \u001b[1;32mas\u001b[0m \u001b[0mFF\u001b[0m\u001b[1;33m\u001b[0m\u001b[1;33m\u001b[0m\u001b[0m\n\u001b[0m",
      "\u001b[1;31mModuleNotFoundError\u001b[0m: No module named 'plotly'"
     ]
    }
   ],
   "source": [
    "import pandas as pd\n",
    "# import numpy as np\n",
    "import scipy \n",
    "from scipy import stats\n",
    "import statsmodels.api as sm\n",
    "#import statsmodels.stats.descriptivestats as sd\n",
    "# import plotly.plotly as py\n",
    "# import plotly.graph_objs as go\n",
    "# from plotly.tools import FigureFactory as FF\n",
    "from plotly import figure_factory as FF"
   ]
  },
  {
   "cell_type": "code",
   "execution_count": null,
   "metadata": {
    "ExecuteTime": {
     "end_time": "2021-11-12T07:47:47.447700Z",
     "start_time": "2021-11-12T07:47:44.916Z"
    }
   },
   "outputs": [],
   "source": [
    "############2 sample T Test(Marketing Strategy) ##################\n",
    "#############Normality test###############\n",
    "#promotion=pd.read_excel(\"C:\\Datasets_BA\\Hypothesis\\Hypothesis Testing_R&Python_codes\\Promotion.xlsx\")\n",
    "\n",
    "promotion=pd.read_excel(\"Promotion - Copy.xlsx\")\n",
    "promotion\n",
    "print(promotion.columns)\n",
    "promotion['Interest Rate Waiver ($ spent)'] \n",
    "promotion['Standard Promotion ($ spent)']"
   ]
  },
  {
   "cell_type": "code",
   "execution_count": null,
   "metadata": {
    "ExecuteTime": {
     "end_time": "2021-11-12T07:47:47.448698Z",
     "start_time": "2021-11-12T07:47:44.917Z"
    }
   },
   "outputs": [],
   "source": [
    "import statsmodels\n",
    "print(stats.shapiro(promotion['Interest Rate Waiver ($ spent)'] ))\n",
    "print(stats.shapiro(promotion['Standard Promotion ($ spent)'] ))\n",
    "print(scipy.stats.ttest_ind(promotion['Interest Rate Waiver ($ spent)'], promotion['Standard Promotion ($ spent)']))\n",
    "statsmodels.stats.weightstats.ttest_ind(promotion['Interest Rate Waiver ($ spent)'], promotion['Standard Promotion ($ spent)'], alternative='larger',usevar='unequal')\n",
    "\n"
   ]
  },
  {
   "cell_type": "code",
   "execution_count": null,
   "metadata": {
    "ExecuteTime": {
     "end_time": "2021-11-12T07:47:47.450691Z",
     "start_time": "2021-11-12T07:47:44.919Z"
    }
   },
   "outputs": [],
   "source": [
    "from statsmodels.formula.api import ols\n",
    "\n",
    "cof=pd.read_excel(\"ContractRenewal_Data(unstacked).xlsx\")\n",
    "print(cof) \n",
    "cof.columns=\"SupplierA\",\"SupplierB\",\"SupplierC\"\n",
    "\n",
    "##########Normality Test ############\n",
    "\n",
    "print(stats.shapiro(cof.SupplierA))    #Shapiro Test\n",
    "print(stats.shapiro(cof.SupplierB))\n",
    "print(stats.shapiro(cof.SupplierC))\n",
    "\n",
    "############## Variance test #########\n",
    "print(scipy.stats.levene(cof.SupplierA, cof.SupplierB))\n",
    "print(scipy.stats.levene(cof.SupplierB, cof.SupplierC))\n",
    "print(scipy.stats.levene(cof.SupplierC, cof.SupplierA))\n",
    "\n",
    "\n",
    "\n",
    "\n",
    "\n",
    "\n",
    "\n",
    "\n"
   ]
  },
  {
   "cell_type": "code",
   "execution_count": null,
   "metadata": {
    "ExecuteTime": {
     "end_time": "2021-11-12T07:47:47.451689Z",
     "start_time": "2021-11-12T07:47:44.922Z"
    }
   },
   "outputs": [],
   "source": [
    "cof.columns=\"SupplierA\",\"SupplierB\",\"SupplierC\"\n",
    "cof"
   ]
  },
  {
   "cell_type": "code",
   "execution_count": null,
   "metadata": {
    "ExecuteTime": {
     "end_time": "2021-11-12T07:47:47.458671Z",
     "start_time": "2021-11-12T07:47:44.924Z"
    }
   },
   "outputs": [],
   "source": [
    "############# One - Way Anova###################\n",
    "mod=ols('SupplierA ~ (SupplierB + SupplierC)',data=cof).fit()\n",
    "\n",
    "aov_table=sm.stats.anova_lm(mod)\n",
    "\n",
    "print(aov_table)\n",
    "stats.f_oneway(cof.iloc[:,0], cof.iloc[:,1],cof.iloc[:,2])"
   ]
  },
  {
   "cell_type": "code",
   "execution_count": null,
   "metadata": {
    "ExecuteTime": {
     "end_time": "2021-11-12T07:47:47.460665Z",
     "start_time": "2021-11-12T07:47:44.925Z"
    }
   },
   "outputs": [],
   "source": [
    "\n",
    "Bahaman=pd.read_excel(\"Bahaman.xlsx\")\n",
    "Bahaman"
   ]
  },
  {
   "cell_type": "code",
   "execution_count": null,
   "metadata": {
    "ExecuteTime": {
     "end_time": "2021-11-12T07:47:47.461662Z",
     "start_time": "2021-11-12T07:47:44.927Z"
    }
   },
   "outputs": [],
   "source": [
    "count=pd.crosstab(Bahaman[\"Defective\"],Bahaman[\"Country\"])\n",
    "count"
   ]
  },
  {
   "cell_type": "code",
   "execution_count": null,
   "metadata": {
    "ExecuteTime": {
     "end_time": "2021-11-12T07:47:47.466649Z",
     "start_time": "2021-11-12T07:47:44.929Z"
    }
   },
   "outputs": [],
   "source": [
    "Chisquares_results=scipy.stats.chi2_contingency(count)\n",
    "Chisquares_results"
   ]
  },
  {
   "cell_type": "code",
   "execution_count": null,
   "metadata": {
    "ExecuteTime": {
     "end_time": "2021-11-12T07:47:47.467646Z",
     "start_time": "2021-11-12T07:47:44.930Z"
    }
   },
   "outputs": [],
   "source": [
    "Chi_square=[['','Test Statistic','p-value'],['Sample Data',Chisquares_results[0],Chisquares_results[1]]]\n",
    "Chi_square"
   ]
  },
  {
   "cell_type": "code",
   "execution_count": 2,
   "metadata": {
    "ExecuteTime": {
     "end_time": "2021-11-12T07:47:49.745114Z",
     "start_time": "2021-11-12T07:47:49.717189Z"
    }
   },
   "outputs": [
    {
     "ename": "AttributeError",
     "evalue": "module 'pandas' has no attribute 'create_table'",
     "output_type": "error",
     "traceback": [
      "\u001b[1;31m---------------------------------------------------------------------------\u001b[0m",
      "\u001b[1;31mAttributeError\u001b[0m                            Traceback (most recent call last)",
      "\u001b[1;32m<ipython-input-2-e7fa3ef75f2c>\u001b[0m in \u001b[0;36m<module>\u001b[1;34m\u001b[0m\n\u001b[0;32m      6\u001b[0m \u001b[1;33m\u001b[0m\u001b[0m\n\u001b[0;32m      7\u001b[0m \u001b[1;33m\u001b[0m\u001b[0m\n\u001b[1;32m----> 8\u001b[1;33m \u001b[0mchisample_results\u001b[0m\u001b[1;33m=\u001b[0m\u001b[0mpd\u001b[0m\u001b[1;33m.\u001b[0m\u001b[0mcreate_table\u001b[0m\u001b[1;33m(\u001b[0m\u001b[0mChi_square\u001b[0m\u001b[1;33m,\u001b[0m\u001b[0mindex\u001b[0m\u001b[1;33m=\u001b[0m\u001b[1;32mTrue\u001b[0m\u001b[1;33m)\u001b[0m\u001b[1;33m\u001b[0m\u001b[1;33m\u001b[0m\u001b[0m\n\u001b[0m\u001b[0;32m      9\u001b[0m \u001b[0mchisample_results\u001b[0m\u001b[1;33m\u001b[0m\u001b[1;33m\u001b[0m\u001b[0m\n",
      "\u001b[1;32m~\\anaconda3\\lib\\site-packages\\pandas\\__init__.py\u001b[0m in \u001b[0;36m__getattr__\u001b[1;34m(name)\u001b[0m\n\u001b[0;32m    242\u001b[0m         \u001b[1;32mreturn\u001b[0m \u001b[0m_SparseArray\u001b[0m\u001b[1;33m\u001b[0m\u001b[1;33m\u001b[0m\u001b[0m\n\u001b[0;32m    243\u001b[0m \u001b[1;33m\u001b[0m\u001b[0m\n\u001b[1;32m--> 244\u001b[1;33m     \u001b[1;32mraise\u001b[0m \u001b[0mAttributeError\u001b[0m\u001b[1;33m(\u001b[0m\u001b[1;34mf\"module 'pandas' has no attribute '{name}'\"\u001b[0m\u001b[1;33m)\u001b[0m\u001b[1;33m\u001b[0m\u001b[1;33m\u001b[0m\u001b[0m\n\u001b[0m\u001b[0;32m    245\u001b[0m \u001b[1;33m\u001b[0m\u001b[0m\n\u001b[0;32m    246\u001b[0m \u001b[1;33m\u001b[0m\u001b[0m\n",
      "\u001b[1;31mAttributeError\u001b[0m: module 'pandas' has no attribute 'create_table'"
     ]
    }
   ],
   "source": [
    "################Chi-Square Test a################\n",
    "\n",
    "\n",
    "\n",
    "\n",
    "\n",
    "\n",
    "chisample_results=pd.create_table(Chi_square,index=True)\n",
    "chisample_results"
   ]
  },
  {
   "cell_type": "code",
   "execution_count": null,
   "metadata": {},
   "outputs": [],
   "source": []
  },
  {
   "cell_type": "code",
   "execution_count": null,
   "metadata": {},
   "outputs": [],
   "source": []
  },
  {
   "cell_type": "code",
   "execution_count": null,
   "metadata": {},
   "outputs": [],
   "source": []
  },
  {
   "cell_type": "code",
   "execution_count": null,
   "metadata": {},
   "outputs": [],
   "source": []
  },
  {
   "cell_type": "code",
   "execution_count": null,
   "metadata": {},
   "outputs": [],
   "source": []
  },
  {
   "cell_type": "code",
   "execution_count": null,
   "metadata": {},
   "outputs": [],
   "source": []
  },
  {
   "cell_type": "code",
   "execution_count": null,
   "metadata": {},
   "outputs": [],
   "source": []
  },
  {
   "cell_type": "code",
   "execution_count": null,
   "metadata": {},
   "outputs": [],
   "source": []
  }
 ],
 "metadata": {
  "kernelspec": {
   "display_name": "Python 3",
   "language": "python",
   "name": "python3"
  },
  "language_info": {
   "codemirror_mode": {
    "name": "ipython",
    "version": 3
   },
   "file_extension": ".py",
   "mimetype": "text/x-python",
   "name": "python",
   "nbconvert_exporter": "python",
   "pygments_lexer": "ipython3",
   "version": "3.8.8"
  },
  "varInspector": {
   "cols": {
    "lenName": 16,
    "lenType": 16,
    "lenVar": 40
   },
   "kernels_config": {
    "python": {
     "delete_cmd_postfix": "",
     "delete_cmd_prefix": "del ",
     "library": "var_list.py",
     "varRefreshCmd": "print(var_dic_list())"
    },
    "r": {
     "delete_cmd_postfix": ") ",
     "delete_cmd_prefix": "rm(",
     "library": "var_list.r",
     "varRefreshCmd": "cat(var_dic_list()) "
    }
   },
   "types_to_exclude": [
    "module",
    "function",
    "builtin_function_or_method",
    "instance",
    "_Feature"
   ],
   "window_display": false
  }
 },
 "nbformat": 4,
 "nbformat_minor": 2
}
