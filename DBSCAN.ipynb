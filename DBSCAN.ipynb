{
 "cells": [
  {
   "cell_type": "code",
   "execution_count": 2,
   "id": "e8175efe",
   "metadata": {
    "ExecuteTime": {
     "end_time": "2021-12-04T15:47:28.294560Z",
     "start_time": "2021-12-04T15:47:28.289575Z"
    }
   },
   "outputs": [],
   "source": [
    "from sklearn.datasets import make_moons\n",
    "x,y=make_moons()"
   ]
  },
  {
   "cell_type": "code",
   "execution_count": 3,
   "id": "351c41d4",
   "metadata": {
    "ExecuteTime": {
     "end_time": "2021-12-04T15:47:36.777359Z",
     "start_time": "2021-12-04T15:47:36.770353Z"
    }
   },
   "outputs": [
    {
     "data": {
      "text/plain": [
       "array([1, 1, 1, 0, 1, 1, 1, 0, 1, 1, 0, 1, 1, 0, 0, 0, 0, 0, 0, 1, 0, 1,\n",
       "       0, 1, 1, 1, 0, 0, 0, 0, 0, 1, 0, 1, 1, 1, 0, 1, 0, 1, 0, 1, 1, 1,\n",
       "       0, 0, 1, 1, 1, 0, 1, 1, 0, 0, 1, 0, 1, 1, 1, 0, 1, 0, 0, 1, 0, 1,\n",
       "       0, 0, 0, 0, 1, 0, 1, 0, 1, 0, 0, 1, 1, 0, 0, 1, 1, 0, 1, 1, 0, 0,\n",
       "       0, 0, 1, 0, 0, 1, 1, 1, 0, 1, 0, 0], dtype=int64)"
      ]
     },
     "execution_count": 3,
     "metadata": {},
     "output_type": "execute_result"
    }
   ],
   "source": [
    "y"
   ]
  },
  {
   "cell_type": "code",
   "execution_count": 10,
   "id": "8ed41528",
   "metadata": {
    "ExecuteTime": {
     "end_time": "2021-12-04T15:51:08.023577Z",
     "start_time": "2021-12-04T15:51:08.001421Z"
    }
   },
   "outputs": [
    {
     "data": {
      "text/html": [
       "<div>\n",
       "<style scoped>\n",
       "    .dataframe tbody tr th:only-of-type {\n",
       "        vertical-align: middle;\n",
       "    }\n",
       "\n",
       "    .dataframe tbody tr th {\n",
       "        vertical-align: top;\n",
       "    }\n",
       "\n",
       "    .dataframe thead th {\n",
       "        text-align: right;\n",
       "    }\n",
       "</style>\n",
       "<table border=\"1\" class=\"dataframe\">\n",
       "  <thead>\n",
       "    <tr style=\"text-align: right;\">\n",
       "      <th></th>\n",
       "      <th>f1</th>\n",
       "      <th>f2</th>\n",
       "      <th>class</th>\n",
       "    </tr>\n",
       "  </thead>\n",
       "  <tbody>\n",
       "    <tr>\n",
       "      <th>0</th>\n",
       "      <td>0.099031</td>\n",
       "      <td>0.066116</td>\n",
       "      <td>1</td>\n",
       "    </tr>\n",
       "    <tr>\n",
       "      <th>1</th>\n",
       "      <td>1.981559</td>\n",
       "      <td>0.308841</td>\n",
       "      <td>1</td>\n",
       "    </tr>\n",
       "    <tr>\n",
       "      <th>2</th>\n",
       "      <td>0.481607</td>\n",
       "      <td>-0.355143</td>\n",
       "      <td>1</td>\n",
       "    </tr>\n",
       "    <tr>\n",
       "      <th>3</th>\n",
       "      <td>0.518393</td>\n",
       "      <td>0.855143</td>\n",
       "      <td>0</td>\n",
       "    </tr>\n",
       "    <tr>\n",
       "      <th>4</th>\n",
       "      <td>0.903977</td>\n",
       "      <td>-0.495379</td>\n",
       "      <td>1</td>\n",
       "    </tr>\n",
       "    <tr>\n",
       "      <th>...</th>\n",
       "      <td>...</td>\n",
       "      <td>...</td>\n",
       "      <td>...</td>\n",
       "    </tr>\n",
       "    <tr>\n",
       "      <th>95</th>\n",
       "      <td>1.718349</td>\n",
       "      <td>-0.195683</td>\n",
       "      <td>1</td>\n",
       "    </tr>\n",
       "    <tr>\n",
       "      <th>96</th>\n",
       "      <td>-0.761446</td>\n",
       "      <td>0.648228</td>\n",
       "      <td>0</td>\n",
       "    </tr>\n",
       "    <tr>\n",
       "      <th>97</th>\n",
       "      <td>0.002055</td>\n",
       "      <td>0.435930</td>\n",
       "      <td>1</td>\n",
       "    </tr>\n",
       "    <tr>\n",
       "      <th>98</th>\n",
       "      <td>0.159600</td>\n",
       "      <td>0.987182</td>\n",
       "      <td>0</td>\n",
       "    </tr>\n",
       "    <tr>\n",
       "      <th>99</th>\n",
       "      <td>0.926917</td>\n",
       "      <td>0.375267</td>\n",
       "      <td>0</td>\n",
       "    </tr>\n",
       "  </tbody>\n",
       "</table>\n",
       "<p>100 rows × 3 columns</p>\n",
       "</div>"
      ],
      "text/plain": [
       "          f1        f2  class\n",
       "0   0.099031  0.066116      1\n",
       "1   1.981559  0.308841      1\n",
       "2   0.481607 -0.355143      1\n",
       "3   0.518393  0.855143      0\n",
       "4   0.903977 -0.495379      1\n",
       "..       ...       ...    ...\n",
       "95  1.718349 -0.195683      1\n",
       "96 -0.761446  0.648228      0\n",
       "97  0.002055  0.435930      1\n",
       "98  0.159600  0.987182      0\n",
       "99  0.926917  0.375267      0\n",
       "\n",
       "[100 rows x 3 columns]"
      ]
     },
     "execution_count": 10,
     "metadata": {},
     "output_type": "execute_result"
    }
   ],
   "source": [
    "import pandas as pd\n",
    "data = pd.DataFrame(x)\n",
    "data.columns = ['f1','f2']\n",
    "data['class'] = y\n",
    "data"
   ]
  },
  {
   "cell_type": "code",
   "execution_count": 11,
   "id": "0e03e116",
   "metadata": {
    "ExecuteTime": {
     "end_time": "2021-12-04T15:52:00.434999Z",
     "start_time": "2021-12-04T15:52:00.113391Z"
    }
   },
   "outputs": [
    {
     "data": {
      "text/plain": [
       "<AxesSubplot:xlabel='f1', ylabel='f2'>"
      ]
     },
     "execution_count": 11,
     "metadata": {},
     "output_type": "execute_result"
    },
    {
     "data": {
      "image/png": "[encoded data removed]",
      "text/plain": [
       "<Figure size 432x288 with 1 Axes>"
      ]
     },
     "metadata": {
      "needs_background": "light"
     },
     "output_type": "display_data"
    }
   ],
   "source": [
    "import seaborn as sns\n",
    "import matplotlib.pyplot as plt\n",
    "\n",
    "sns.scatterplot(x = data.f1,y = data.f2)"
   ]
  },
  {
   "cell_type": "markdown",
   "id": "d2a9ebac",
   "metadata": {},
   "source": [
    "# Using Kmeans"
   ]
  },
  {
   "cell_type": "code",
   "execution_count": 16,
   "id": "040fdb08",
   "metadata": {
    "ExecuteTime": {
     "end_time": "2021-12-04T15:54:53.632215Z",
     "start_time": "2021-12-04T15:54:53.585705Z"
    }
   },
   "outputs": [
    {
     "data": {
      "text/plain": [
       "KMeans(max_iter=600, n_clusters=2)"
      ]
     },
     "execution_count": 16,
     "metadata": {},
     "output_type": "execute_result"
    }
   ],
   "source": [
    "from sklearn.cluster import KMeans\n",
    "kmeans = KMeans(n_clusters=2,max_iter=600)\n",
    "kmeans.fit(data.iloc[:,:2])"
   ]
  },
  {
   "cell_type": "code",
   "execution_count": 17,
   "id": "11fe75f0",
   "metadata": {
    "ExecuteTime": {
     "end_time": "2021-12-04T15:55:30.202327Z",
     "start_time": "2021-12-04T15:55:30.193324Z"
    }
   },
   "outputs": [],
   "source": [
    "kmeans_pred = kmeans.predict(data.iloc[:,:2])"
   ]
  },
  {
   "cell_type": "code",
   "execution_count": 18,
   "id": "d00d9af6",
   "metadata": {
    "ExecuteTime": {
     "end_time": "2021-12-04T15:56:11.865251Z",
     "start_time": "2021-12-04T15:56:11.841314Z"
    }
   },
   "outputs": [
    {
     "data": {
      "text/html": [
       "<div>\n",
       "<style scoped>\n",
       "    .dataframe tbody tr th:only-of-type {\n",
       "        vertical-align: middle;\n",
       "    }\n",
       "\n",
       "    .dataframe tbody tr th {\n",
       "        vertical-align: top;\n",
       "    }\n",
       "\n",
       "    .dataframe thead th {\n",
       "        text-align: right;\n",
       "    }\n",
       "</style>\n",
       "<table border=\"1\" class=\"dataframe\">\n",
       "  <thead>\n",
       "    <tr style=\"text-align: right;\">\n",
       "      <th></th>\n",
       "      <th>f1</th>\n",
       "      <th>f2</th>\n",
       "      <th>class</th>\n",
       "      <th>class_pr</th>\n",
       "    </tr>\n",
       "  </thead>\n",
       "  <tbody>\n",
       "    <tr>\n",
       "      <th>0</th>\n",
       "      <td>0.099031</td>\n",
       "      <td>0.066116</td>\n",
       "      <td>1</td>\n",
       "      <td>0</td>\n",
       "    </tr>\n",
       "    <tr>\n",
       "      <th>1</th>\n",
       "      <td>1.981559</td>\n",
       "      <td>0.308841</td>\n",
       "      <td>1</td>\n",
       "      <td>1</td>\n",
       "    </tr>\n",
       "    <tr>\n",
       "      <th>2</th>\n",
       "      <td>0.481607</td>\n",
       "      <td>-0.355143</td>\n",
       "      <td>1</td>\n",
       "      <td>1</td>\n",
       "    </tr>\n",
       "    <tr>\n",
       "      <th>3</th>\n",
       "      <td>0.518393</td>\n",
       "      <td>0.855143</td>\n",
       "      <td>0</td>\n",
       "      <td>0</td>\n",
       "    </tr>\n",
       "    <tr>\n",
       "      <th>4</th>\n",
       "      <td>0.903977</td>\n",
       "      <td>-0.495379</td>\n",
       "      <td>1</td>\n",
       "      <td>1</td>\n",
       "    </tr>\n",
       "    <tr>\n",
       "      <th>...</th>\n",
       "      <td>...</td>\n",
       "      <td>...</td>\n",
       "      <td>...</td>\n",
       "      <td>...</td>\n",
       "    </tr>\n",
       "    <tr>\n",
       "      <th>95</th>\n",
       "      <td>1.718349</td>\n",
       "      <td>-0.195683</td>\n",
       "      <td>1</td>\n",
       "      <td>1</td>\n",
       "    </tr>\n",
       "    <tr>\n",
       "      <th>96</th>\n",
       "      <td>-0.761446</td>\n",
       "      <td>0.648228</td>\n",
       "      <td>0</td>\n",
       "      <td>0</td>\n",
       "    </tr>\n",
       "    <tr>\n",
       "      <th>97</th>\n",
       "      <td>0.002055</td>\n",
       "      <td>0.435930</td>\n",
       "      <td>1</td>\n",
       "      <td>0</td>\n",
       "    </tr>\n",
       "    <tr>\n",
       "      <th>98</th>\n",
       "      <td>0.159600</td>\n",
       "      <td>0.987182</td>\n",
       "      <td>0</td>\n",
       "      <td>0</td>\n",
       "    </tr>\n",
       "    <tr>\n",
       "      <th>99</th>\n",
       "      <td>0.926917</td>\n",
       "      <td>0.375267</td>\n",
       "      <td>0</td>\n",
       "      <td>1</td>\n",
       "    </tr>\n",
       "  </tbody>\n",
       "</table>\n",
       "<p>100 rows × 4 columns</p>\n",
       "</div>"
      ],
      "text/plain": [
       "          f1        f2  class  class_pr\n",
       "0   0.099031  0.066116      1         0\n",
       "1   1.981559  0.308841      1         1\n",
       "2   0.481607 -0.355143      1         1\n",
       "3   0.518393  0.855143      0         0\n",
       "4   0.903977 -0.495379      1         1\n",
       "..       ...       ...    ...       ...\n",
       "95  1.718349 -0.195683      1         1\n",
       "96 -0.761446  0.648228      0         0\n",
       "97  0.002055  0.435930      1         0\n",
       "98  0.159600  0.987182      0         0\n",
       "99  0.926917  0.375267      0         1\n",
       "\n",
       "[100 rows x 4 columns]"
      ]
     },
     "execution_count": 18,
     "metadata": {},
     "output_type": "execute_result"
    }
   ],
   "source": [
    "data['class_pr'] = kmeans_pred\n",
    "data"
   ]
  },
  {
   "cell_type": "code",
   "execution_count": 23,
   "id": "8701aede",
   "metadata": {
    "ExecuteTime": {
     "end_time": "2021-12-04T15:58:15.328444Z",
     "start_time": "2021-12-04T15:58:15.152913Z"
    }
   },
   "outputs": [
    {
     "data": {
      "text/plain": [
       "<AxesSubplot:xlabel='f1', ylabel='f2'>"
      ]
     },
     "execution_count": 23,
     "metadata": {},
     "output_type": "execute_result"
    },
    {
     "data": {
      "image/png": "[encoded data removed]",
      "text/plain": [
       "<Figure size 432x288 with 1 Axes>"
      ]
     },
     "metadata": {
      "needs_background": "light"
     },
     "output_type": "display_data"
    }
   ],
   "source": [
    "sns.scatterplot(x = data.f1,y = data.f2,c = data.class_pr,cmap = plt.cm.prism_r)"
   ]
  },
  {
   "cell_type": "markdown",
   "id": "3e8c673c",
   "metadata": {},
   "source": [
    "# Using Heirararchial cluster"
   ]
  },
  {
   "cell_type": "code",
   "execution_count": 24,
   "id": "483f16fb",
   "metadata": {
    "ExecuteTime": {
     "end_time": "2021-12-04T16:01:43.637118Z",
     "start_time": "2021-12-04T16:01:43.634161Z"
    }
   },
   "outputs": [],
   "source": [
    "import scipy.cluster.hierarchy as sch\n",
    "from sklearn.cluster import AgglomerativeClustering"
   ]
  },
  {
   "cell_type": "code",
   "execution_count": 29,
   "id": "84760ab1",
   "metadata": {
    "ExecuteTime": {
     "end_time": "2021-12-04T16:04:20.295608Z",
     "start_time": "2021-12-04T16:04:20.273652Z"
    }
   },
   "outputs": [
    {
     "data": {
      "text/html": [
       "<div>\n",
       "<style scoped>\n",
       "    .dataframe tbody tr th:only-of-type {\n",
       "        vertical-align: middle;\n",
       "    }\n",
       "\n",
       "    .dataframe tbody tr th {\n",
       "        vertical-align: top;\n",
       "    }\n",
       "\n",
       "    .dataframe thead th {\n",
       "        text-align: right;\n",
       "    }\n",
       "</style>\n",
       "<table border=\"1\" class=\"dataframe\">\n",
       "  <thead>\n",
       "    <tr style=\"text-align: right;\">\n",
       "      <th></th>\n",
       "      <th>f1</th>\n",
       "      <th>f2</th>\n",
       "    </tr>\n",
       "  </thead>\n",
       "  <tbody>\n",
       "    <tr>\n",
       "      <th>0</th>\n",
       "      <td>0.099031</td>\n",
       "      <td>0.066116</td>\n",
       "    </tr>\n",
       "    <tr>\n",
       "      <th>1</th>\n",
       "      <td>1.981559</td>\n",
       "      <td>0.308841</td>\n",
       "    </tr>\n",
       "    <tr>\n",
       "      <th>2</th>\n",
       "      <td>0.481607</td>\n",
       "      <td>-0.355143</td>\n",
       "    </tr>\n",
       "    <tr>\n",
       "      <th>3</th>\n",
       "      <td>0.518393</td>\n",
       "      <td>0.855143</td>\n",
       "    </tr>\n",
       "    <tr>\n",
       "      <th>4</th>\n",
       "      <td>0.903977</td>\n",
       "      <td>-0.495379</td>\n",
       "    </tr>\n",
       "    <tr>\n",
       "      <th>...</th>\n",
       "      <td>...</td>\n",
       "      <td>...</td>\n",
       "    </tr>\n",
       "    <tr>\n",
       "      <th>95</th>\n",
       "      <td>1.718349</td>\n",
       "      <td>-0.195683</td>\n",
       "    </tr>\n",
       "    <tr>\n",
       "      <th>96</th>\n",
       "      <td>-0.761446</td>\n",
       "      <td>0.648228</td>\n",
       "    </tr>\n",
       "    <tr>\n",
       "      <th>97</th>\n",
       "      <td>0.002055</td>\n",
       "      <td>0.435930</td>\n",
       "    </tr>\n",
       "    <tr>\n",
       "      <th>98</th>\n",
       "      <td>0.159600</td>\n",
       "      <td>0.987182</td>\n",
       "    </tr>\n",
       "    <tr>\n",
       "      <th>99</th>\n",
       "      <td>0.926917</td>\n",
       "      <td>0.375267</td>\n",
       "    </tr>\n",
       "  </tbody>\n",
       "</table>\n",
       "<p>100 rows × 2 columns</p>\n",
       "</div>"
      ],
      "text/plain": [
       "          f1        f2\n",
       "0   0.099031  0.066116\n",
       "1   1.981559  0.308841\n",
       "2   0.481607 -0.355143\n",
       "3   0.518393  0.855143\n",
       "4   0.903977 -0.495379\n",
       "..       ...       ...\n",
       "95  1.718349 -0.195683\n",
       "96 -0.761446  0.648228\n",
       "97  0.002055  0.435930\n",
       "98  0.159600  0.987182\n",
       "99  0.926917  0.375267\n",
       "\n",
       "[100 rows x 2 columns]"
      ]
     },
     "execution_count": 29,
     "metadata": {},
     "output_type": "execute_result"
    }
   ],
   "source": [
    "data2 = data.drop(['class','class_pr'],axis = 1)\n",
    "data2"
   ]
  },
  {
   "cell_type": "code",
   "execution_count": 32,
   "id": "31853fa2",
   "metadata": {
    "ExecuteTime": {
     "end_time": "2021-12-04T16:05:30.579432Z",
     "start_time": "2021-12-04T16:05:26.385651Z"
    }
   },
   "outputs": [
    {
     "data": {
      "image/png": "[encoded data removed]",
      "text/plain": [
       "<Figure size 1440x720 with 1 Axes>"
      ]
     },
     "metadata": {
      "needs_background": "light"
     },
     "output_type": "display_data"
    }
   ],
   "source": [
    "plt.figure(figsize=(20,10))\n",
    "dendrogram = sch.dendrogram(sch.linkage(data2,method='single'))"
   ]
  },
  {
   "cell_type": "code",
   "execution_count": 37,
   "id": "5735093b",
   "metadata": {
    "ExecuteTime": {
     "end_time": "2021-12-04T16:09:09.238218Z",
     "start_time": "2021-12-04T16:09:09.217300Z"
    }
   },
   "outputs": [],
   "source": [
    "cluster=AgglomerativeClustering(n_clusters=2,linkage= 'single')\n",
    "class_pr = cluster.fit_predict(data.iloc[:,:2])"
   ]
  },
  {
   "cell_type": "code",
   "execution_count": 38,
   "id": "7b06af37",
   "metadata": {
    "ExecuteTime": {
     "end_time": "2021-12-04T16:09:23.494792Z",
     "start_time": "2021-12-04T16:09:23.489840Z"
    }
   },
   "outputs": [],
   "source": [
    "data2['class_pr']  =class_pr"
   ]
  },
  {
   "cell_type": "code",
   "execution_count": 43,
   "id": "acb82d73",
   "metadata": {
    "ExecuteTime": {
     "end_time": "2021-12-04T16:10:47.780982Z",
     "start_time": "2021-12-04T16:10:47.601500Z"
    }
   },
   "outputs": [
    {
     "data": {
      "text/plain": [
       "<AxesSubplot:xlabel='f1', ylabel='f2'>"
      ]
     },
     "execution_count": 43,
     "metadata": {},
     "output_type": "execute_result"
    },
    {
     "data": {
      "image/png": "[encoded data removed]",
      "text/plain": [
       "<Figure size 432x288 with 1 Axes>"
      ]
     },
     "metadata": {
      "needs_background": "light"
     },
     "output_type": "display_data"
    }
   ],
   "source": [
    "sns.scatterplot(x = data2.f1,y=data2.f2,c = data2.class_pr,cmap = plt.cm.Accent_r)"
   ]
  },
  {
   "cell_type": "markdown",
   "id": "c43fe19d",
   "metadata": {},
   "source": [
    "# Using DBSCAN"
   ]
  },
  {
   "cell_type": "code",
   "execution_count": 45,
   "id": "f8081dd1",
   "metadata": {
    "ExecuteTime": {
     "end_time": "2021-12-04T16:14:07.755431Z",
     "start_time": "2021-12-04T16:14:07.745456Z"
    }
   },
   "outputs": [],
   "source": [
    "from sklearn.cluster import DBSCAN\n",
    "db = DBSCAN(min_samples=2,eps = 0.2)"
   ]
  },
  {
   "cell_type": "code",
   "execution_count": 49,
   "id": "2d0014ed",
   "metadata": {
    "ExecuteTime": {
     "end_time": "2021-12-04T16:15:09.301544Z",
     "start_time": "2021-12-04T16:15:09.280884Z"
    }
   },
   "outputs": [],
   "source": [
    "class_pr = db.fit_predict(data.iloc[:,:2])"
   ]
  },
  {
   "cell_type": "code",
   "execution_count": 50,
   "id": "1f6b9a4f",
   "metadata": {
    "ExecuteTime": {
     "end_time": "2021-12-04T16:16:06.209514Z",
     "start_time": "2021-12-04T16:16:06.192523Z"
    }
   },
   "outputs": [],
   "source": [
    "data3 = data.copy()"
   ]
  },
  {
   "cell_type": "code",
   "execution_count": 51,
   "id": "74dc2f9a",
   "metadata": {
    "ExecuteTime": {
     "end_time": "2021-12-04T16:16:18.567640Z",
     "start_time": "2021-12-04T16:16:18.561620Z"
    }
   },
   "outputs": [],
   "source": [
    "data3['class_pr'] = class_pr"
   ]
  },
  {
   "cell_type": "code",
   "execution_count": 52,
   "id": "9dac09bf",
   "metadata": {
    "ExecuteTime": {
     "end_time": "2021-12-04T16:16:57.777491Z",
     "start_time": "2021-12-04T16:16:57.568710Z"
    }
   },
   "outputs": [
    {
     "data": {
      "text/plain": [
       "<AxesSubplot:xlabel='f1', ylabel='f2'>"
      ]
     },
     "execution_count": 52,
     "metadata": {},
     "output_type": "execute_result"
    },
    {
     "data": {
      "image/png": "[encoded data removed]",
      "text/plain": [
       "<Figure size 432x288 with 1 Axes>"
      ]
     },
     "metadata": {
      "needs_background": "light"
     },
     "output_type": "display_data"
    }
   ],
   "source": [
    "sns.scatterplot(x = data3.f1,y = data3.f2,c = class_pr)"
   ]
  },
  {
   "cell_type": "code",
   "execution_count": null,
   "id": "e907ad88",
   "metadata": {},
   "outputs": [],
   "source": []
  }
 ],
 "metadata": {
  "kernelspec": {
   "display_name": "Python 3",
   "language": "python",
   "name": "python3"
  },
  "language_info": {
   "codemirror_mode": {
    "name": "ipython",
    "version": 3
   },
   "file_extension": ".py",
   "mimetype": "text/x-python",
   "name": "python",
   "nbconvert_exporter": "python",
   "pygments_lexer": "ipython3",
   "version": "3.8.8"
  },
  "varInspector": {
   "cols": {
    "lenName": 16,
    "lenType": 16,
    "lenVar": 40
   },
   "kernels_config": {
    "python": {
     "delete_cmd_postfix": "",
     "delete_cmd_prefix": "del ",
     "library": "var_list.py",
     "varRefreshCmd": "print(var_dic_list())"
    },
    "r": {
     "delete_cmd_postfix": ") ",
     "delete_cmd_prefix": "rm(",
     "library": "var_list.r",
     "varRefreshCmd": "cat(var_dic_list()) "
    }
   },
   "types_to_exclude": [
    "module",
    "function",
    "builtin_function_or_method",
    "instance",
    "_Feature"
   ],
   "window_display": false
  }
 },
 "nbformat": 4,
 "nbformat_minor": 5
}
